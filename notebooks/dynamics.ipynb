{
 "cells": [
  {
   "cell_type": "markdown",
   "metadata": {},
   "source": [
    "# Dynamics of ODEs & Bifurcation Continuation\n",
    "\n",
    "The [DifferentialEquations.jl](https://docs.sciml.ai/DiffEqDocs/stable/)\n",
    "ecosystem is a collection of packages for solving differential equations.\n",
    "`OrdinaryDiffEq` is the main package used for systems of ODEs, though\n",
    "`DiffEqGPU` offers similar functionality for GPU acceleration."
   ]
  },
  {
   "cell_type": "code",
   "execution_count": null,
   "metadata": {},
   "outputs": [],
   "source": [
    "using Pkg\n",
    "Pkg.activate(\".\")\n",
    "Pkg.instantiate()\n",
    "\n",
    "using OrdinaryDiffEq"
   ]
  },
  {
   "cell_type": "markdown",
   "metadata": {},
   "source": [
    "## Integrate-and-fire neuron model"
   ]
  },
  {
   "cell_type": "markdown",
   "metadata": {},
   "source": [
    "<div style=\"background-color: white; text-align: center;\">\n",
    "  <img style=\"width: 320px;\" src=\"https://neuronaldynamics.epfl.ch/online/x635.png\">\n",
    "</div>\n",
    "\n",
    "*Image credit: https://neuronaldynamics.epfl.ch/online/Ch1.S3.html*\n",
    "\n",
    "The integrate-and-fire model is based on a single simple ODE:\n",
    "\n",
    "$$C\\dot{V}(t) = g_{\\rm Leak}(V(t)-V_{\\rm Rest}) + I_{\\rm Ext}(t),$$\n",
    "\n",
    "where $C$ is the membrane capacitance, $g_{\\rm Leak}$ is the membrane leak\n",
    "conductance, $V_{\\rm Rest}$ is the equilibrium potential of the leak channel,\n",
    "and $I_{\\rm Ext}(t)$ is a current applied to the membrane from the outside\n",
    "world.\n",
    "\n",
    "There are two extra parameters in the model:\n",
    "1. $V_{\\rm Th}$, a threshold voltage at which the neuron will \"spike,\" or fire\n",
    "   an action potential upon crossing upward.\n",
    "2. $V_{\\rm AP}$, the maximum voltage value of an action potential.\n",
    "\n",
    "When an action potential is observed, the voltage $V$ should be immediately\n",
    "reset to the equilibrium voltage value $V_{\\rm Rest}$.\n",
    "\n",
    "*Note: Formally speaking, the solutions to the integrate-and-fire neuron model\n",
    "are distributions, where action potentials are instantaneous (Dirac delta\n",
    "terms).*"
   ]
  },
  {
   "cell_type": "markdown",
   "metadata": {},
   "source": [
    "### Derivative definition"
   ]
  },
  {
   "cell_type": "code",
   "execution_count": null,
   "metadata": {},
   "outputs": [],
   "source": [
    "# Define the differential equation.\n",
    "# Note: The state V and derivatives dV are vectors (with only one component in\n",
    "# this model). In general, they may have any number of components.\n",
    "function integrate_and_fire!(\n",
    "  dV::Vector{Float64}, # dV/dt. Will be mutated, hence `!` in the function name.\n",
    "  V::Vector{Float64},  # Voltage.\n",
    "  p::Vector{Float64},  # Parameter vector.\n",
    "  t::Float64           # Time.\n",
    ") # Since we're using an in-place solver, we mutate the existing dV instead of returning a new updated dV.\n",
    "  # Extract parameters from p.\n",
    "  C, g_leak, V_rest, _, _ = p\n",
    "  \n",
    "  # Compute the derivative.\n",
    "  # Note: I_ext isn't defined yet -- we can call it here because Julia does\n",
    "  # two-pass compilation. We'll define it later.\n",
    "  dV[1] = (g_leak * (V_rest - V[1]) + I_ext(t)) / C;\n",
    "\n",
    "  # We don't need to return anything for an in-place solver.\n",
    "  # Also, note that we do NOT handle action potential events in this derivative\n",
    "  # definition. Instead, we will use a callback injected into the numerical\n",
    "  # solver -- DifferentialEquations.jl provides rich callback functionality.\n",
    "  # We only need to define the derivatives for the model here.\n",
    "end"
   ]
  },
  {
   "cell_type": "markdown",
   "metadata": {},
   "source": [
    "### Callback definition (action potential handling)\n",
    "\n",
    "https://docs.sciml.ai/DiffEqDocs/stable/features/callback_functions/"
   ]
  },
  {
   "cell_type": "code",
   "execution_count": null,
   "metadata": {},
   "outputs": [],
   "source": [
    "# We want to store the spike times. We reset this to nothing later, but\n",
    "# I defined it here too for pedagogical clarity.\n",
    "ap_times = Float64[]\n",
    "\n",
    "# Define the action potential handler callback.\n",
    "# This will be triggered when the voltage crosses the threshold from below to\n",
    "# above.\n",
    "function condition_spike(V, t, integrator)\n",
    "  # Extract parameters from the integrator.\n",
    "  _, _, V_rest, V_th, _ = integrator.p\n",
    "  \n",
    "  # Return the difference between voltage and threshold.\n",
    "  # The callback triggers when this crosses zero from negative to positive.\n",
    "  return V[1] - V_th\n",
    "end\n",
    "\n",
    "function affect_spike!(integrator)\n",
    "  # Extract parameters from the integrator.\n",
    "  _, _, V_rest, _, _ = integrator.p\n",
    "  \n",
    "  # Record that a spike occurred at the current time.\n",
    "  push!(ap_times, integrator.t)\n",
    "  \n",
    "  # Reset voltage to resting potential.\n",
    "  integrator.u[1] = V_rest\n",
    "end\n",
    "\n",
    "# Create the callback that will be passed to the solver.\n",
    "#\n",
    "# Because this is a *continuous* callback, `affect_spike!` will be called\n",
    "# at exactly the time of the spike voltage threshold being crossed, no matter\n",
    "# the integration time step size.\n",
    "#\n",
    "# The `affect_neg!` kwarg needs to be set to `nothing`; otherwise it defaults to\n",
    "# whatever `affect!` is (in this case, `affect_spike!`). This would cause\n",
    "# spikes to occur when the spike voltage threshold is crossed from above to\n",
    "# below.\n",
    "spike_callback = ContinuousCallback(condition_spike, affect_spike!; affect_neg! = nothing);"
   ]
  },
  {
   "cell_type": "markdown",
   "metadata": {},
   "source": [
    "### External current"
   ]
  },
  {
   "cell_type": "code",
   "execution_count": null,
   "metadata": {},
   "outputs": [],
   "source": [
    "function I_ext(t::Float64)::Float64\n",
    "  amplitude = 10.0\n",
    "  period = 20.0\n",
    "\n",
    "  # amplitude # Constant current.\n",
    "  amplitude * ((sin(t * π / 2period) + 1.0) / 2.0)^3 # Oscillatory excitatory current.\n",
    "  # amplitude * floor((t / period) % 2.0) # Periodic pulses.\n",
    "end"
   ]
  },
  {
   "cell_type": "markdown",
   "metadata": {},
   "source": [
    "### Parameters & numerical solver config"
   ]
  },
  {
   "cell_type": "code",
   "execution_count": null,
   "metadata": {},
   "outputs": [],
   "source": [
    "# Define parameter vector.\n",
    "p = [\n",
    "  1.0,   # C\n",
    "  0.01,  # g_leak\n",
    "  -60.0, # V_rest\n",
    "  -40.0, # V_th\n",
    "  20.0   # V_ap\n",
    "];\n",
    "tspan = (0.0, 3e2); # Time span for integration."
   ]
  },
  {
   "cell_type": "markdown",
   "metadata": {},
   "source": [
    "### Initial condition"
   ]
  },
  {
   "cell_type": "code",
   "execution_count": null,
   "metadata": {},
   "outputs": [],
   "source": [
    "V0 = [p[3]]; # Start with voltage at resting voltage.\n",
    "ap_times = Float64[]; # Reset spike times vector."
   ]
  },
  {
   "cell_type": "markdown",
   "metadata": {},
   "source": [
    "### Solve the system"
   ]
  },
  {
   "cell_type": "code",
   "execution_count": null,
   "metadata": {},
   "outputs": [],
   "source": [
    "# Set up the differential equation problem.\n",
    "prob = ODEProblem(integrate_and_fire!, V0, tspan, p)\n",
    "\n",
    "# Compute the solution.\n",
    "sol = solve(prob, Tsit5(), abstol=1e-8, reltol=1e-8, callback=spike_callback)"
   ]
  },
  {
   "cell_type": "markdown",
   "metadata": {},
   "source": [
    "### Plot the solution and external current"
   ]
  },
  {
   "cell_type": "code",
   "execution_count": null,
   "metadata": {},
   "outputs": [],
   "source": [
    "using GLMakie"
   ]
  },
  {
   "cell_type": "code",
   "execution_count": null,
   "metadata": {},
   "outputs": [],
   "source": [
    "# Create a figure with two panels.\n",
    "fig = Figure(size=(800, 600))\n",
    "\n",
    "# First panel for voltage.\n",
    "ax1 = Axis(\n",
    "  fig[1, 1], \n",
    "  xlabel=\"Time (ms)\", \n",
    "  ylabel=\"Voltage (mV)\",\n",
    "  title=\"Membrane Potential\"\n",
    ")\n",
    "\n",
    "# Plot the voltage trajectory.\n",
    "lines!(ax1, sol.t, [u[1] for u in sol.u], linewidth=2, color=:blue)\n",
    "\n",
    "# Add markers for action potentials.\n",
    "if !isempty(ap_times)\n",
    "  # Add vertical lines from threshold to action potential voltage.\n",
    "  for t in ap_times\n",
    "    lines!(\n",
    "      ax1,\n",
    "      [t, t],\n",
    "      [p[4], p[5]],\n",
    "      color=:blue,\n",
    "      linewidth=2\n",
    "    )\n",
    "  end\n",
    "  \n",
    "  # Add scatter points at action potential peaks.\n",
    "  scatter!(\n",
    "    ax1,\n",
    "    ap_times,\n",
    "    fill(p[5], length(ap_times)), \n",
    "    color=:red,\n",
    "    markersize=10\n",
    "  )\n",
    "end\n",
    "\n",
    "# Add a horizontal line for threshold voltage.\n",
    "hlines!(ax1, p[4], color=:black, linestyle=:dash, label=\"Threshold\")\n",
    "\n",
    "# Second panel for external current.\n",
    "ax2 = Axis(\n",
    "  fig[2, 1], \n",
    "  xlabel=\"Time (ms)\", \n",
    "  ylabel=\"Current (nA)\",\n",
    "  title=\"External Current\"\n",
    ")\n",
    "\n",
    "# Calculate current at each time point.\n",
    "current_values = [I_ext(t) for t in sol.t]\n",
    "lines!(ax2, sol.t, current_values, linewidth=2, color=:green)\n",
    "\n",
    "# Add a horizontal line at zero current for reference.\n",
    "hlines!(ax2, 0, color=:black, linestyle=:dash, label=\"Zero Current\")\n",
    "\n",
    "# Link the x-axes of both panels.\n",
    "linkxaxes!(ax1, ax2)\n",
    "\n",
    "# Add some padding to the layout.\n",
    "fig[1:2, 1] = GridLayout(tellwidth=false)\n",
    "\n",
    "# Display the figure.\n",
    "fig"
   ]
  },
  {
   "cell_type": "markdown",
   "metadata": {},
   "source": [
    "## Lorenz system"
   ]
  },
  {
   "cell_type": "markdown",
   "metadata": {},
   "source": [
    "The Lorenz system is an autonomous system of three ODEs:\n",
    "\n",
    "$$\\dot{x} = \\sigma(y-t),$$\n",
    "$$\\dot{y} = x(\\rho-z)-y,$$\n",
    "$$\\dot{z} = xy-\\beta z.$$\n",
    "\n",
    "For parameter values $\\rho = 28, \\sigma = 10, \\beta = \\frac83$, the system\n",
    "exhibits a chaotic attractor.\n",
    "\n",
    "We'll try to locate some periodic orbits in the state space of the Lorenz\n",
    "system using parameter continuation with `BifurcationKit.jl`."
   ]
  },
  {
   "cell_type": "markdown",
   "metadata": {},
   "source": [
    "### Define derivatives"
   ]
  },
  {
   "cell_type": "code",
   "execution_count": null,
   "metadata": {},
   "outputs": [],
   "source": [
    "function lorenz!(du, u, p, t)\n",
    "  # Extract parameters.\n",
    "  ρ, σ, β = p\n",
    "\n",
    "  # Extract state variables.\n",
    "  x, y, z = u\n",
    "  \n",
    "  # Define the Lorenz system equations.\n",
    "  du[1] = σ * (y - x)\n",
    "  du[2] = x * (ρ - z) - y\n",
    "  du[3] = x * y - β * z\n",
    "\n",
    "  # Return the derivatives; we will need this for BifurcationKit.jl.\n",
    "  du\n",
    "end"
   ]
  },
  {
   "cell_type": "markdown",
   "metadata": {},
   "source": [
    "### Set up integration"
   ]
  },
  {
   "cell_type": "code",
   "execution_count": null,
   "metadata": {},
   "outputs": [],
   "source": [
    "p = [\n",
    "  28.0,   # ρ\n",
    "  10.0,   # σ\n",
    "  8.0/3.0 # β\n",
    "]\n",
    "\n",
    "u0 = [\n",
    "  10.0, # x\n",
    "  10.0, # y\n",
    "  10.0  # z\n",
    "]\n",
    "\n",
    "tspan = (0.0, 1e4)"
   ]
  },
  {
   "cell_type": "markdown",
   "metadata": {},
   "source": [
    "### Integrate"
   ]
  },
  {
   "cell_type": "code",
   "execution_count": null,
   "metadata": {},
   "outputs": [],
   "source": [
    "# Create the ODE problem.\n",
    "prob = ODEProblem(lorenz!, u0, tspan, p)\n",
    "\n",
    "# Solve the ODE problem.\n",
    "solution = solve(prob, Tsit5(), abstol=1e-8, reltol=1e-8)"
   ]
  },
  {
   "cell_type": "markdown",
   "metadata": {},
   "source": [
    "### Plot solution"
   ]
  },
  {
   "cell_type": "code",
   "execution_count": null,
   "metadata": {},
   "outputs": [],
   "source": [
    "# Extract the solution components.\n",
    "xs = [u[1] for u in solution.u]\n",
    "ys = [u[2] for u in solution.u]\n",
    "zs = [u[3] for u in solution.u]\n",
    "\n",
    "# Create the 3D plot.\n",
    "fig = Figure()\n",
    "ax = Axis3(\n",
    "  fig[1, 1], \n",
    "  xlabel = \"x\", \n",
    "  ylabel = \"y\", \n",
    "  zlabel = \"z\",\n",
    "  title = \"Lorenz system trajectory\"\n",
    ")\n",
    "\n",
    "# Plot the solution.\n",
    "lines!(ax, xs, ys, zs, linewidth = 1)\n",
    "\n",
    "# Display the figure.\n",
    "fig"
   ]
  },
  {
   "cell_type": "markdown",
   "metadata": {},
   "source": [
    "### Set up `BifurcationKit.jl` for Lorenz system"
   ]
  },
  {
   "cell_type": "code",
   "execution_count": null,
   "metadata": {},
   "outputs": [],
   "source": [
    "using BifurcationKit"
   ]
  },
  {
   "cell_type": "markdown",
   "metadata": {},
   "source": [
    "We need to give BifurcationKit.jl a good initial guess for the location of an\n",
    "equilibrium.\n",
    "I used [Fork](https://fork-phi.vercel.app) to find an equilibrium I want to\n",
    "continue, though you can just use Newton method in Julia if you want.\n",
    "We use the usual parameter values (from earlier) as the starting point."
   ]
  },
  {
   "cell_type": "code",
   "execution_count": null,
   "metadata": {},
   "outputs": [],
   "source": [
    "# Initial guess for the equilibrium point.\n",
    "u0 = [\n",
    "  8.48528137423857, # x\n",
    "  8.48528137423857, # y\n",
    "  27.0              # z\n",
    "]"
   ]
  },
  {
   "cell_type": "code",
   "execution_count": null,
   "metadata": {},
   "outputs": [],
   "source": [
    "# Out-of-place derivatives for bifurcation continuation.\n",
    "function lorenz_bifn(u, p)\n",
    "  # Extract parameters.\n",
    "  ρ, σ, β = p\n",
    "\n",
    "  # Extract state variables.\n",
    "  x, y, z = u\n",
    "  \n",
    "  # Define the Lorenz system equations.\n",
    "  du = [\n",
    "    σ * (y - x),\n",
    "    x * (ρ - z) - y,\n",
    "    x * y - β * z\n",
    "  ]\n",
    "\n",
    "  # Return the derivatives.\n",
    "  du\n",
    "end"
   ]
  },
  {
   "cell_type": "code",
   "execution_count": null,
   "metadata": {},
   "outputs": [],
   "source": [
    "# We're going to do an equilibrium continuation with respect to the β parameter\n",
    "# (parameter 3).\n",
    "bifn_prob = BifurcationProblem(lorenz_bifn, u0, p, 3)"
   ]
  },
  {
   "cell_type": "code",
   "execution_count": null,
   "metadata": {},
   "outputs": [],
   "source": [
    "# Specify a continuation range.\n",
    "#\n",
    "# We want to continue β in the positive direction.\n",
    "opts_br = ContinuationPar(p_min = 8.0/3.0, p_max = 4.0)"
   ]
  },
  {
   "cell_type": "markdown",
   "metadata": {},
   "source": [
    "### Continue the equilibrium with respect to $\\beta$ to find Hopf bifurcation"
   ]
  },
  {
   "cell_type": "code",
   "execution_count": null,
   "metadata": {},
   "outputs": [],
   "source": [
    "br = continuation(bifn_prob, MoorePenrose(), opts_br; normC = norminf)"
   ]
  },
  {
   "cell_type": "code",
   "execution_count": null,
   "metadata": {},
   "outputs": [],
   "source": [
    "# BifurcationKit.jl does support Makie, but the documentation primarily uses\n",
    "# Plots.jl.\n",
    "using Plots\n",
    "\n",
    "scene = plot(br, plotfold=false, markersize=4, legend=:topleft)"
   ]
  },
  {
   "cell_type": "markdown",
   "metadata": {},
   "source": [
    "### Continue the periodic orbit with respect to $\\beta$ back to a Neimark-Sacker bifurcation"
   ]
  },
  {
   "cell_type": "code",
   "execution_count": null,
   "metadata": {},
   "outputs": [],
   "source": [
    "# Tell the continuation problem what to record from the solutions at each\n",
    "# parameter value (the periodic orbit as a trajectory).\n",
    "args_po = (\n",
    "  record_from_solution = (u, p; k...) -> begin\n",
    "    utt = get_periodic_orbit(p.prob, u, p.p)\n",
    "    return (\n",
    "      utt = utt,\n",
    "      period = getperiod(p.prob, u, p.p)\n",
    "    )\n",
    "  end,\n",
    "  normC = norminf\n",
    ")\n",
    "\n",
    "# Configure the continuation problem.\n",
    "opts_po_cont = ContinuationPar(\n",
    "  opts_br,\n",
    "  ds=-3e-3,\n",
    "  dsmin=1e-4,\n",
    "  dsmax=1e-1,\n",
    "  max_steps=50,\n",
    "  tol_stability=1e-7\n",
    ")\n",
    "\n",
    "# Make sure the continuation has an appropriate tolerance; otherwise it won't\n",
    "# converge.\n",
    "@reset opts_po_cont.newton_options.tol = 1e-7\n",
    "\n",
    "# Perform the continuation with periodic orbit collocation.\n",
    "br_po = continuation(\n",
    "  br,\n",
    "  1,\n",
    "  opts_po_cont,\n",
    "  PeriodicOrbitOCollProblem(100, 4; meshadapt=true)\n",
    ")\n",
    "# br_po = continuation(br, 1, opts_po_cont, PeriodicOrbitTrapProblem(M=250))"
   ]
  },
  {
   "cell_type": "markdown",
   "metadata": {},
   "source": [
    "### Plot periodic orbit"
   ]
  },
  {
   "cell_type": "code",
   "execution_count": null,
   "metadata": {},
   "outputs": [],
   "source": [
    "# Plot exactly at NS bifurcation (false)? Or after some further continuation\n",
    "# (true)?\n",
    "after_neimark_sacker = false\n",
    "\n",
    "endpoint_step = br_po.specialpoint[after_neimark_sacker ? end : 1].step\n",
    "po_traj = get_periodic_orbit(br_po, endpoint_step)\n",
    "\n",
    "plot(\n",
    "  po_traj[1,:],\n",
    "  po_traj[2,:],\n",
    "  po_traj[3,:],\n",
    "  xlabel=\"x\",\n",
    "  ylabel=\"y\",\n",
    "  zlabel=\"z\",\n",
    "  linewidth=1\n",
    ")"
   ]
  },
  {
   "cell_type": "markdown",
   "metadata": {},
   "source": [
    "### PCA and plot in GLMakie for clearer visual"
   ]
  },
  {
   "cell_type": "code",
   "execution_count": null,
   "metadata": {},
   "outputs": [],
   "source": [
    "using GLMakie, LinearAlgebra, MultivariateStats, Statistics\n",
    "\n",
    "# Extract the raw data from po_traj\n",
    "x_coords = po_traj[1, :]\n",
    "y_coords = po_traj[2, :]\n",
    "z_coords = po_traj[3, :]\n",
    "\n",
    "# Create a matrix where each column is a dimension (x,y,z) and each row is a point\n",
    "data_matrix = hcat(x_coords, y_coords, z_coords)\n",
    "\n",
    "# Center the data (subtract mean)\n",
    "data_centered = data_matrix .- mean(data_matrix, dims=1)\n",
    "\n",
    "# Calculate the covariance matrix manually\n",
    "cov_matrix = (data_centered' * data_centered) ./ (size(data_centered, 1) - 1)\n",
    "\n",
    "# Perform eigen decomposition\n",
    "eigen_vals, eigen_vecs = eigen(cov_matrix)\n",
    "\n",
    "# Sort eigenvalues and eigenvectors in descending order\n",
    "idx = sortperm(eigen_vals, rev=true)\n",
    "eigen_vals = eigen_vals[idx]\n",
    "eigen_vecs = eigen_vecs[:, idx]\n",
    "\n",
    "# Project the data onto the principal components\n",
    "pca_data = data_centered * eigen_vecs\n",
    "\n",
    "# Calculate explained variance ratio\n",
    "total_variance = sum(eigen_vals)\n",
    "explained_variance_ratio = eigen_vals ./ total_variance\n",
    "\n",
    "# Create a 3D plot of the projected data using GLMakie.\n",
    "fig = Figure()\n",
    "ax = Axis3(fig[1, 1], \n",
    "    xlabel=\"PC1 ($(round(explained_variance_ratio[1]*100, digits=2))%)\",\n",
    "    ylabel=\"PC2 ($(round(explained_variance_ratio[2]*100, digits=2))%)\",\n",
    "    zlabel=\"PC3 ($(round(explained_variance_ratio[3]*100, digits=2))%)\",\n",
    "    title=\"3D PCA of Periodic Orbit\"\n",
    ")\n",
    "lines!(ax, pca_data[:, 1], pca_data[:, 2], pca_data[:, 3], linewidth=1)\n",
    "fig\n"
   ]
  }
 ],
 "metadata": {
  "kernelspec": {
   "display_name": "Julia 1.11.2",
   "language": "julia",
   "name": "julia-1.11"
  },
  "language_info": {
   "file_extension": ".jl",
   "mimetype": "application/julia",
   "name": "julia",
   "version": "1.11.2"
  }
 },
 "nbformat": 4,
 "nbformat_minor": 2
}

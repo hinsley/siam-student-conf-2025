{
 "cells": [
  {
   "cell_type": "markdown",
   "metadata": {},
   "source": [
    "# Dynamics of ODEs & Bifurcation Continuation\n",
    "\n",
    "The [DifferentialEquations.jl](https://docs.sciml.ai/DiffEqDocs/stable/)\n",
    "ecosystem is a collection of packages for solving differential equations.\n",
    "`OrdinaryDiffEq` is the main package used for systems of ODEs, though\n",
    "`DiffEqGPU` offers similar functionality for GPU acceleration."
   ]
  },
  {
   "cell_type": "code",
   "execution_count": 1,
   "metadata": {},
   "outputs": [
    {
     "name": "stderr",
     "output_type": "stream",
     "text": [
      "\u001b[32m\u001b[1m  Activating\u001b[22m\u001b[39m project at `~/Dev/siam-student-conf-2025/notebooks`\n"
     ]
    }
   ],
   "source": [
    "using Pkg\n",
    "Pkg.activate(\".\")\n",
    "Pkg.instantiate()\n",
    "\n",
    "using OrdinaryDiffEq"
   ]
  },
  {
   "cell_type": "markdown",
   "metadata": {},
   "source": [
    "## Integrate-and-fire neuron model"
   ]
  },
  {
   "cell_type": "markdown",
   "metadata": {},
   "source": [
    "<div style=\"background-color: white; text-align: center;\">\n",
    "  <img style=\"width: 320px;\" src=\"https://neuronaldynamics.epfl.ch/online/x635.png\">\n",
    "</div>\n",
    "\n",
    "*Image credit: https://neuronaldynamics.epfl.ch/online/Ch1.S3.html*\n",
    "\n",
    "The integrate-and-fire model is based on a single simple ODE:\n",
    "\n",
    "$$C\\dot{V}(t) = g_{\\rm Leak}(V(t)-V_{\\rm Rest}) + I_{\\rm Ext}(t),$$\n",
    "\n",
    "where $C$ is the membrane capacitance, $g_{\\rm Leak}$ is the membrane leak\n",
    "conductance, $V_{\\rm Rest}$ is the equilibrium potential of the leak channel,\n",
    "and $I_{\\rm Ext}(t)$ is a current applied to the membrane from the outside\n",
    "world.\n",
    "\n",
    "There are two extra parameters in the model:\n",
    "1. $V_{\\rm Th}$, a threshold voltage at which the neuron will \"spike,\" or fire\n",
    "   an action potential upon crossing upward.\n",
    "2. $V_{\\rm AP}$, the maximum voltage value of an action potential.\n",
    "\n",
    "When an action potential is observed, the voltage $V$ should be immediately\n",
    "reset to the equilibrium voltage value $V_{\\rm Rest}$.\n",
    "\n",
    "*Note: Formally speaking, the solutions to the integrate-and-fire neuron model\n",
    "are distributions, where action potentials are instantaneous (Dirac delta\n",
    "terms).*"
   ]
  },
  {
   "cell_type": "markdown",
   "metadata": {},
   "source": [
    "### Derivative definition"
   ]
  },
  {
   "cell_type": "code",
   "execution_count": 9,
   "metadata": {},
   "outputs": [
    {
     "data": {
      "text/plain": [
       "integrate_and_fire! (generic function with 1 method)"
      ]
     },
     "metadata": {},
     "output_type": "display_data"
    }
   ],
   "source": [
    "# Define the differential equation.\n",
    "# Note: The state V and derivatives dV are vectors (with only one component in\n",
    "# this model). In general, they may have any number of components.\n",
    "function integrate_and_fire!(\n",
    "  dV::Vector{Float64}, # dV/dt. Will be mutated, hence `!` in the function name.\n",
    "  V::Vector{Float64},  # Voltage.\n",
    "  p::Vector{Float64},  # Parameter vector.\n",
    "  t::Float64           # Time.\n",
    ") # Since we're using an in-place solver, we mutate the existing dV instead of returning a new updated dV.\n",
    "  # Extract parameters from p.\n",
    "  C, g_leak, V_rest, _, _ = p\n",
    "  \n",
    "  # Compute the derivative.\n",
    "  # Note: I_ext isn't defined yet -- we can call it here because Julia does\n",
    "  # two-pass compilation. We'll define it later.\n",
    "  dV[1] = (g_leak * (V_rest - V[1]) + I_ext(t)) / C;\n",
    "\n",
    "  # We don't need to return anything for an in-place solver.\n",
    "  # Also, note that we do NOT handle action potential events in this derivative\n",
    "  # definition. Instead, we will use a callback injected into the numerical\n",
    "  # solver -- DifferentialEquations.jl provides rich callback functionality.\n",
    "  # We only need to define the derivatives for the model here.\n",
    "end"
   ]
  },
  {
   "cell_type": "markdown",
   "metadata": {},
   "source": [
    "### Callback definition (action potential handling)\n",
    "\n",
    "https://docs.sciml.ai/DiffEqDocs/stable/features/callback_functions/"
   ]
  },
  {
   "cell_type": "code",
   "execution_count": 10,
   "metadata": {},
   "outputs": [],
   "source": [
    "# We want to store the spike times. We reset this to nothing later, but\n",
    "# I defined it here too for pedagogical clarity.\n",
    "ap_times = Float64[]\n",
    "\n",
    "# Define the action potential handler callback.\n",
    "# This will be triggered when the voltage crosses the threshold from below to\n",
    "# above.\n",
    "function condition_spike(V, t, integrator)\n",
    "  # Extract parameters from the integrator.\n",
    "  _, _, V_rest, V_th, _ = integrator.p\n",
    "  \n",
    "  # Return the difference between voltage and threshold.\n",
    "  # The callback triggers when this crosses zero from negative to positive.\n",
    "  return V[1] - V_th\n",
    "end\n",
    "\n",
    "function affect_spike!(integrator)\n",
    "  # Extract parameters from the integrator.\n",
    "  _, _, V_rest, _, _ = integrator.p\n",
    "  \n",
    "  # Record that a spike occurred at the current time.\n",
    "  append!(ap_times, integrator.t)\n",
    "  \n",
    "  # Reset voltage to resting potential.\n",
    "  integrator.u[1] = V_rest\n",
    "end\n",
    "\n",
    "# Create the callback that will be passed to the solver.\n",
    "#\n",
    "# Because this is a *continuous* callback, `affect_spike!` will be called\n",
    "# at exactly the time of the spike voltage threshold being crossed, no matter\n",
    "# the integration time step size.\n",
    "#\n",
    "# The `affect_neg!` kwarg needs to be set to `nothing`; otherwise it defaults to\n",
    "# whatever `affect!` is (in this case, `affect_spike!`). This would cause\n",
    "# spikes to occur when the spike voltage threshold is crossed from above to\n",
    "# below.\n",
    "spike_callback = ContinuousCallback(condition_spike, affect_spike!; affect_neg! = nothing);"
   ]
  },
  {
   "cell_type": "markdown",
   "metadata": {},
   "source": [
    "### External current"
   ]
  },
  {
   "cell_type": "code",
   "execution_count": 143,
   "metadata": {},
   "outputs": [
    {
     "data": {
      "text/plain": [
       "I_ext (generic function with 1 method)"
      ]
     },
     "metadata": {},
     "output_type": "display_data"
    }
   ],
   "source": [
    "function I_ext(t::Float64)::Float64\n",
    "  amplitude = 10.0\n",
    "  period = 20.0\n",
    "\n",
    "  # amplitude # Constant current.\n",
    "  amplitude * ((sin(t * π / 2period) + 1.0) / 2.0)^3 # Oscillatory excitatory current.\n",
    "  # amplitude * floor((t / period) % 2.0) # Periodic pulses.\n",
    "end"
   ]
  },
  {
   "cell_type": "markdown",
   "metadata": {},
   "source": [
    "### Parameters & numerical solver config"
   ]
  },
  {
   "cell_type": "code",
   "execution_count": 155,
   "metadata": {},
   "outputs": [],
   "source": [
    "# Define parameter vector.\n",
    "p = [\n",
    "  1.0,   # C\n",
    "  0.01,  # g_leak\n",
    "  -60.0, # V_rest\n",
    "  -40.0, # V_th\n",
    "  20.0   # V_ap\n",
    "];\n",
    "tspan = (0.0, 3e2); # Time span for integration."
   ]
  },
  {
   "cell_type": "markdown",
   "metadata": {},
   "source": [
    "### Initial condition"
   ]
  },
  {
   "cell_type": "code",
   "execution_count": 156,
   "metadata": {},
   "outputs": [],
   "source": [
    "V = [p[3]]; # Start with voltage at resting voltage.\n",
    "ap_times = Float64[]; # Reset spike times vector."
   ]
  },
  {
   "cell_type": "markdown",
   "metadata": {},
   "source": [
    "### Solve the system"
   ]
  },
  {
   "cell_type": "code",
   "execution_count": 157,
   "metadata": {},
   "outputs": [
    {
     "data": {
      "text/plain": [
       "retcode: Success\n",
       "Interpolation: specialized 4th order \"free\" interpolation\n",
       "t: 284-element Vector{Float64}:\n",
       "   0.0\n",
       "   0.02176125631892553\n",
       "   0.23245492140641202\n",
       "   0.6483645921415518\n",
       "   1.1531436988007053\n",
       "   1.7634220037532295\n",
       "   2.457044195997477\n",
       "   3.230118126336742\n",
       "   4.066562294542153\n",
       "   4.9574936071857225\n",
       "   ⋮\n",
       " 286.5001154775818\n",
       " 288.6786596197479\n",
       " 290.0797975256339\n",
       " 291.74214450672076\n",
       " 293.2411690756605\n",
       " 294.8296644205109\n",
       " 296.4284996679966\n",
       " 298.14876907393494\n",
       " 300.0\n",
       "u: 284-element Vector{Vector{Float64}}:\n",
       " [-60.0]\n",
       " [-59.97273157834622]\n",
       " [-59.701720606501055]\n",
       " [-59.12828351288084]\n",
       " [-58.35987665943147]\n",
       " [-57.31713354824124]\n",
       " [-55.96881381844362]\n",
       " [-54.24446454402497]\n",
       " [-52.094059546571465]\n",
       " [-49.45297341164379]\n",
       " ⋮\n",
       " [-48.08371130413204]\n",
       " [-48.10662289630718]\n",
       " [-48.20953517086045]\n",
       " [-48.37284431242169]\n",
       " [-48.53647658660166]\n",
       " [-48.71446753902907]\n",
       " [-48.893011812389915]\n",
       " [-49.082410479823814]\n",
       " [-49.28266061789893]"
      ]
     },
     "metadata": {},
     "output_type": "display_data"
    }
   ],
   "source": [
    "# Set up the differential equation problem.\n",
    "prob = ODEProblem(integrate_and_fire!, V, tspan, p)\n",
    "\n",
    "# Compute the solution.\n",
    "sol = solve(prob, Tsit5(), abstol=1e-8, reltol=1e-8, callback=spike_callback)"
   ]
  },
  {
   "cell_type": "markdown",
   "metadata": {},
   "source": [
    "### Plot the solution and external current"
   ]
  },
  {
   "cell_type": "code",
   "execution_count": 158,
   "metadata": {},
   "outputs": [],
   "source": [
    "using GLMakie"
   ]
  },
  {
   "cell_type": "code",
   "execution_count": 159,
   "metadata": {},
   "outputs": [],
   "source": [
    "# Create a figure with two panels.\n",
    "fig = Figure(size=(800, 600))\n",
    "\n",
    "# First panel for voltage.\n",
    "ax1 = Axis(\n",
    "  fig[1, 1], \n",
    "  xlabel=\"Time (ms)\", \n",
    "  ylabel=\"Voltage (mV)\",\n",
    "  title=\"Membrane Potential\"\n",
    ")\n",
    "\n",
    "# Plot the voltage trajectory.\n",
    "lines!(ax1, sol.t, [u[1] for u in sol.u], linewidth=2, color=:blue)\n",
    "\n",
    "# Add markers for action potentials.\n",
    "if !isempty(ap_times)\n",
    "  # Add vertical lines from threshold to action potential voltage.\n",
    "  for t in ap_times\n",
    "    lines!(\n",
    "      ax1,\n",
    "      [t, t],\n",
    "      [p[4], p[5]],\n",
    "      color=:blue,\n",
    "      linewidth=2\n",
    "    )\n",
    "  end\n",
    "  \n",
    "  # Add scatter points at action potential peaks.\n",
    "  scatter!(\n",
    "    ax1,\n",
    "    ap_times,\n",
    "    fill(p[5], length(ap_times)), \n",
    "    color=:red,\n",
    "    markersize=10\n",
    "  )\n",
    "end\n",
    "\n",
    "# Add a horizontal line for threshold voltage.\n",
    "hlines!(ax1, p[4], color=:black, linestyle=:dash, label=\"Threshold\")\n",
    "\n",
    "# Second panel for external current.\n",
    "ax2 = Axis(\n",
    "  fig[2, 1], \n",
    "  xlabel=\"Time (ms)\", \n",
    "  ylabel=\"Current (nA)\",\n",
    "  title=\"External Current\"\n",
    ")\n",
    "\n",
    "# Calculate current at each time point.\n",
    "current_values = [I_ext(t) for t in sol.t]\n",
    "lines!(ax2, sol.t, current_values, linewidth=2, color=:green)\n",
    "\n",
    "# Add a horizontal line at zero current for reference.\n",
    "hlines!(ax2, 0, color=:black, linestyle=:dash, label=\"Zero Current\")\n",
    "\n",
    "# Link the x-axes of both panels.\n",
    "linkxaxes!(ax1, ax2)\n",
    "\n",
    "# Add some padding to the layout.\n",
    "fig[1:2, 1] = GridLayout(tellwidth=false)\n",
    "\n",
    "# Display the figure.\n",
    "fig"
   ]
  }
 ],
 "metadata": {
  "kernelspec": {
   "display_name": "Julia 1.11.2",
   "language": "julia",
   "name": "julia-1.11"
  },
  "language_info": {
   "file_extension": ".jl",
   "mimetype": "application/julia",
   "name": "julia",
   "version": "1.11.2"
  }
 },
 "nbformat": 4,
 "nbformat_minor": 2
}

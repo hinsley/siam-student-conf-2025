{
 "cells": [
  {
   "cell_type": "markdown",
   "metadata": {},
   "source": [
    "# Julia's type system"
   ]
  },
  {
   "cell_type": "markdown",
   "metadata": {},
   "source": [
    "There are five important features of Julia's type system to understand:\n",
    "1. Interfaces & abstract types\n",
    "2. Subtyping\n",
    "3. Parametric types\n",
    "4. Multiple dispatch\n",
    "5. Type stability\n"
   ]
  },
  {
   "cell_type": "markdown",
   "metadata": {},
   "source": [
    "## Type operator & function reference\n",
    "\n",
    "| Operator / Function | Name                         | Purpose                                                                |\n",
    "|-----------|-------------------------------|-----------------------------------------------------------------------------------|\n",
    "| `::`      | **Type assertion**            | Asserts or annotates the type of a variable or function argument/return value     |\n",
    "| `<:`      | **Subtype**                   | Used to express \"is a subtype of\"                                                 |\n",
    "| `>:`      | **Supertype**                 | Used to express \"is a supertype of\"                                               |\n",
    "| `isa`     | **Type check**                | Checks if a value *is an instance* of a type                                      |\n",
    "| `typeof`  | **Type query**                | Returns the type of a value                                                       |\n",
    "| `where`   | **Type parameter constraint** | Constrains a parametric type to satisfy a type assertion                          |\n",
    "| `methods` | **Type-based function lookup**| Looks up all functions matching a name and a specified type signature             |\n"
   ]
  },
  {
   "cell_type": "markdown",
   "metadata": {},
   "source": [
    "## Interfaces & abstract types"
   ]
  },
  {
   "cell_type": "markdown",
   "metadata": {},
   "source": [
    "Reference: https://docs.julialang.org/en/v1/manual/interfaces/\n",
    "\n",
    "Some languages have support for *interfaces*, which are collections of\n",
    "properties and functions that must be implemented by any type adhering to an\n",
    "interface.\n",
    "\n",
    "Julia does not actually support a formal interface system, but people like to\n",
    "pretend it does.\n",
    "\n",
    "*Abstract types* are a close cousin to interfaces and are used to give some\n",
    "legitimacy to the notion of interfaces, but they are not the same thing.\n",
    "Some examples of abstract types:\n",
    "- `Number`: The abstract supertype for all numeric types.\n",
    "- `Real`: The abstract supertype for real-valued numeric types.\n",
    "- `AbstractArray`: The abstract supertype for array-like data structures.\n",
    "- `AbstractString`: The abstract supertype for string-like types.\n",
    "- `AbstractDict`: The abstract supertype for dictionary-like collections.\n",
    "- `IO`: The abstract supertype for I/O streams.\n",
    "- `Function`: The abstract supertype for all function objects.\n",
    "\n",
    "Functions can take an abstract typed argument, and any (appropriately subtyped)\n",
    "type implementing the interface associated with that abstract type can then be\n",
    "passed to the function.\n",
    "For example, an `Int` should probably adhere to the interface associated with\n",
    "the `Number` abstract type, so basic arithmetic ought to work for `Int`s\n",
    "supplied to a function that accepts `Number`s and performs arithmetic\n",
    "operations."
   ]
  },
  {
   "cell_type": "code",
   "execution_count": null,
   "metadata": {},
   "outputs": [],
   "source": [
    "function operate(x::Number)\n",
    "  x * x + x\n",
    "end"
   ]
  },
  {
   "cell_type": "code",
   "execution_count": null,
   "metadata": {},
   "outputs": [],
   "source": [
    "typeof(-7)"
   ]
  },
  {
   "cell_type": "code",
   "execution_count": null,
   "metadata": {},
   "outputs": [],
   "source": [
    "operate(-7)"
   ]
  },
  {
   "cell_type": "markdown",
   "metadata": {},
   "source": [
    "## Subtyping"
   ]
  },
  {
   "cell_type": "code",
   "execution_count": null,
   "metadata": {},
   "outputs": [],
   "source": [
    "# Define a Zero type that is a subtype of Number.\n",
    "struct Zero <: Number end\n",
    "\n",
    "# Define basic arithmetic operations for Zero.\n",
    "Base.:+(::Zero, ::Zero) = Zero()\n",
    "Base.:+(x::Number, ::Zero) = x\n",
    "Base.:+(::Zero, x::Number) = x\n",
    "\n",
    "Base.:-(::Zero, ::Zero) = Zero()\n",
    "Base.:-(x::Number, ::Zero) = x\n",
    "Base.:-(::Zero, x::Number) = -x\n",
    "\n",
    "Base.:*(::Zero, ::Number) = Zero()\n",
    "Base.:*(::Number, ::Zero) = Zero()\n",
    "\n",
    "Base.:/(::Zero, x::Number) = Zero()\n",
    "Base.:/(::Number, ::Zero) = error(\"Division by zero.\")\n",
    "\n",
    "# Show method for printing.\n",
    "Base.show(io::IO, ::Zero) = print(io, \"zero\")"
   ]
  },
  {
   "cell_type": "code",
   "execution_count": null,
   "metadata": {},
   "outputs": [],
   "source": [
    "# Create an instance of Zero.\n",
    "zero = Zero()\n",
    "println(\"zero + zero = \", zero + zero)\n",
    "println(\"zero - 5 = \", zero - 5)\n",
    "println(\"5 * zero = \", 5 * zero)\n",
    "println(\"5 / zero = \", 5 / zero)"
   ]
  },
  {
   "cell_type": "markdown",
   "metadata": {},
   "source": [
    "## Parametric types"
   ]
  },
  {
   "cell_type": "markdown",
   "metadata": {},
   "source": [
    "Types can be created for \"container\" data (e.g. vectors, matrices) with\n",
    "constraints on the types of contained data.\n",
    "Constraints can be refined further in particular methods that accept or return\n",
    "values of those container types."
   ]
  },
  {
   "cell_type": "code",
   "execution_count": null,
   "metadata": {},
   "outputs": [],
   "source": [
    "struct SparseMatrix{T<:Number} <: AbstractMatrix{T}\n",
    "  size::Tuple{Int, Int}\n",
    "  indices::Vector{Tuple{Int, Int}}\n",
    "  values::Vector{T}\n",
    "end\n",
    "\n",
    "# Constructor with empty matrix.\n",
    "function SparseMatrix{T}(m::Int, n::Int) where T <: Number\n",
    "  SparseMatrix{T}((m, n), Tuple{Int, Int}[], T[])\n",
    "end\n",
    "\n",
    "# Get value at specific index.\n",
    "function Base.getindex(A::SparseMatrix{T}, i::Int, j::Int) where T <: Number\n",
    "  if i < 1 || i > A.size[1] || j < 1 || j > A.size[2]\n",
    "    throw(BoundsError(A, (i, j)))\n",
    "  end\n",
    "  \n",
    "  for (idx, (row, col)) in enumerate(A.indices)\n",
    "    if row == i && col == j\n",
    "      return A.values[idx]\n",
    "    end\n",
    "  end\n",
    "  \n",
    "  return 0 # Return zero for non-stored elements.\n",
    "end\n",
    "\n",
    "# Set value at specific index.\n",
    "function Base.setindex!(A::SparseMatrix{T}, v, i::Int, j::Int) where T <: Number\n",
    "  if i < 1 || i > A.size[1] || j < 1 || j > A.size[2]\n",
    "    throw(BoundsError(A, (i, j)))\n",
    "  end\n",
    "  \n",
    "  # Check if index already exists.\n",
    "  for (idx, (row, col)) in enumerate(A.indices)\n",
    "    if row == i && col == j\n",
    "      if v == 0\n",
    "        # Remove the element if setting to zero.\n",
    "        deleteat!(A.indices, idx)\n",
    "        deleteat!(A.values, idx)\n",
    "      else\n",
    "        # Update existing value.\n",
    "        A.values[idx] = v\n",
    "      end\n",
    "      return A\n",
    "    end\n",
    "  end\n",
    "  \n",
    "  # If we're here, the index doesn't exist yet.\n",
    "  if v != 0\n",
    "    push!(A.indices, (i, j))\n",
    "    push!(A.values, v)\n",
    "  end\n",
    "  \n",
    "  return A\n",
    "end\n",
    "\n",
    "# Matrix addition.\n",
    "function Base.:+(A::SparseMatrix{T}, B::SparseMatrix{T}) where T <: Number\n",
    "  if A.size != B.size\n",
    "    throw(DimensionMismatch(\"Matrix dimensions must match.\"))\n",
    "  end\n",
    "  \n",
    "  result = SparseMatrix{T}(A.size[1], A.size[2])\n",
    "  \n",
    "  # Add all elements from A.\n",
    "  for (idx, (i, j)) in enumerate(A.indices)\n",
    "    result[i, j] += A.values[idx]\n",
    "  end\n",
    "  \n",
    "  # Add all elements from B.\n",
    "  for (idx, (i, j)) in enumerate(B.indices)\n",
    "    result[i, j] += B.values[idx]\n",
    "  end\n",
    "  \n",
    "  return result\n",
    "end\n",
    "\n",
    "# Matrix-matrix multiplication.\n",
    "function Base.:*(A::SparseMatrix{T}, B::SparseMatrix{S}) where {T <: Number, S <: Number}\n",
    "  if A.size[2] != B.size[1]\n",
    "    throw(DimensionMismatch(\"Inner matrix dimensions must match.\"))\n",
    "  end\n",
    "  \n",
    "  R = promote_type(T, S)\n",
    "  result = SparseMatrix{R}(A.size[1], B.size[2])\n",
    "  \n",
    "  # For each non-zero element in A.\n",
    "  for (idx_a, (i, k)) in enumerate(A.indices)\n",
    "    # For each non-zero element in B where the row matches k.\n",
    "    for (idx_b, (k_b, j)) in enumerate(B.indices)\n",
    "      if k == k_b\n",
    "        # Multiply and add to result.\n",
    "        result[i, j] += A.values[idx_a] * B.values[idx_b]\n",
    "      end\n",
    "    end\n",
    "  end\n",
    "  \n",
    "  return result\n",
    "end\n",
    "\n",
    "# Matrix-scalar multiplication.\n",
    "function Base.:*(A::SparseMatrix{T}, scalar::Number) where T <: Number\n",
    "  R = promote_type(T, typeof(scalar))\n",
    "  result = SparseMatrix{R}(A.size[1], A.size[2])\n",
    "  \n",
    "  for (idx, (i, j)) in enumerate(A.indices)\n",
    "    result[i, j] = A.values[idx] * scalar\n",
    "  end\n",
    "  \n",
    "  return result\n",
    "end\n",
    "\n",
    "# Scalar-matrix multiplication.\n",
    "function Base.:*(scalar::Number, A::SparseMatrix{T}) where T <: Number\n",
    "  return A * scalar  # Reuse the matrix-scalar multiplication.\n",
    "end\n",
    "\n",
    "# Show method for printing.\n",
    "function Base.show(io::IO, A::SparseMatrix{T}) where T <: Number\n",
    "  println(io, \"$(A.size[1])×$(A.size[2]) SparseMatrix{$T} with $(length(A.indices)) stored entries:\")\n",
    "  for (idx, (i, j)) in enumerate(A.indices)\n",
    "    println(io, \"  [$i, $j] = $(A.values[idx])\")\n",
    "  end\n",
    "end"
   ]
  },
  {
   "cell_type": "markdown",
   "metadata": {},
   "source": [
    "Note: We could allow multiplication/addition of `SparseMatrix`es with\n",
    "`Matrix`es, but this would nearly triple the amount of code we need to write.\n",
    "\n",
    "Because multiple dispatch follows the anaemic domain model (see later), we can\n",
    "publish our `SparseMatrix` implementation as a package and someone else can\n",
    "implement `SparseMatrix`-`Matrix` algebra externally without modifying our code."
   ]
  },
  {
   "cell_type": "code",
   "execution_count": null,
   "metadata": {},
   "outputs": [],
   "source": [
    "# Create two sparse matrices and multiply them.\n",
    "# First, create a 50x7 sparse matrix.\n",
    "A = SparseMatrix{Int}(50, 7)\n",
    "# Add some non-zero entries.\n",
    "for i in 1:10\n",
    "    A[rand(1:50), rand(1:7)] = rand(1:10)\n",
    "end\n",
    "\n",
    "# Create a 7x50 sparse matrix.\n",
    "B = SparseMatrix{Int}(7, 50)\n",
    "# Add some non-zero entries.\n",
    "for i in 1:10\n",
    "    B[rand(1:7), rand(1:50)] = rand(1:10)\n",
    "end\n",
    "\n",
    "# Multiply the matrices.\n",
    "C = A * B\n",
    "println(\"Result is a $(C.size[1])×$(C.size[2]) matrix with $(length(C.indices)) non-zero entries.\")"
   ]
  },
  {
   "cell_type": "code",
   "execution_count": null,
   "metadata": {},
   "outputs": [],
   "source": [
    "println(\"A: \", A)\n",
    "println(\"B: \", B)"
   ]
  },
  {
   "cell_type": "code",
   "execution_count": null,
   "metadata": {},
   "outputs": [],
   "source": [
    "println(\"C: \", C)"
   ]
  },
  {
   "cell_type": "markdown",
   "metadata": {},
   "source": [
    "## Multiple dispatch"
   ]
  },
  {
   "cell_type": "markdown",
   "metadata": {},
   "source": [
    "Multiple dispatch is the function routing paradigm in Julia, whereby invoked\n",
    "function implementations are selected based on the concrete types of *all*\n",
    "arguments **at runtime**.\n",
    "This differs from:\n",
    "\n",
    "1. **Single dispatch** (Python/Java): Only considers the type of the\n",
    "   first/owning object.\n",
    "2. **Function overloading** (C++/Java): Resolves at compile-time using static\n",
    "   types.\n",
    "3. **Duck typing** (MATLAB/Python): Relies on runtime checks for method\n",
    "   existence, incurring a runtime performance penalty.\n",
    "\n",
    "### Advantages over other languages\n",
    "\n",
    "**Over MATLAB/Python**\n",
    "\n",
    "Eliminates `isa`/`isinstance` checks and `switch`/`nargin` patterns.\n",
    "You can thus write type-stable (more on this later) code that's both generic and\n",
    "fully optimized by the compiler:\n",
    "```julia\n",
    "# Single method handling both scalars and arrays.\n",
    "function scale(x::Union{Number, AbstractArray}, factor::Number)\n",
    "    x * factor\n",
    "end\n",
    "```\n",
    "\n",
    "**Over C++/Java/Rust**\n",
    "\n",
    "Enables dynamic polymorphism without class hierarchies or trait objects --\n",
    "multiple dispatch adheres to the *anaemic domain model*.\n",
    "You can add functionality (e.g. \"methods\") to existing types without\n",
    "modification:\n",
    "```julia\n",
    "# Extend base function for custom type.\n",
    "Base.sqrt(x::MyCustomNumber) = my_sqrt_impl(x)\n",
    "```\n",
    "\n",
    "**Over Haskell/Rust**\n",
    "\n",
    "Permits working with concrete types rather than type classes/traits to generate\n",
    "specialized machine code automatically:\n",
    "```julia\n",
    "# The compiler generates optimized versions for each type combination.\n",
    "add(x::Int, y::Int) = x + y\n",
    "add(x::Float64, y::Float64) = x + y\n",
    "```\n",
    "\n",
    "**High-level abstractions & fine control over the machine**\n",
    "\n",
    "The JIT compiler generates specialized machine code for each type combination,\n",
    "which enables:\n",
    "- Zero-cost abstractions,\n",
    "- Automatic SIMD vectorization (or guide with `@inbounds` and `@simd`), and\n",
    "- Type-stable code paths.\n",
    "\n",
    "### An example\n",
    "\n",
    "Consider the addition operator:\n",
    "- **Python/MATLAB**: The implementation of `a + b` to dispatch is determined by\n",
    "  the left operand's type.\n",
    "- **Julia**: `+(a, b)` dispatches on both types, correctly handling:\n",
    "  - Mixed precision via promotion by default (Int + Float64),\n",
    "  - Dimensional quantities (3m + 5cm), and\n",
    "  - Distributed arrays + scalars via broadcasting.\n"
   ]
  },
  {
   "cell_type": "markdown",
   "metadata": {},
   "source": [
    "### Where multiple dispatch can be tricky\n",
    "\n",
    "We need to take care to prevent ambiguous argument type matching when using\n",
    "multiple dispatch.\n",
    "\n",
    "Because Julia tries to use the most specific/concrete type in each case\n",
    "(subtypes preferred over supertypes), two definitions of the same function may\n",
    "have incomparable specificities among argument types.\n",
    "This happens whenever there is not a single dominant compatible definition of\n",
    "the function with respect to each argument type supplied."
   ]
  },
  {
   "cell_type": "code",
   "execution_count": null,
   "metadata": {},
   "outputs": [],
   "source": [
    "function addVectors(\n",
    "  a::AbstractVector{T},\n",
    "  b::Vector{T}\n",
    ")::Vector{T} where T<:Number\n",
    "  # Add the vectors component-wise.\n",
    "  return a .+ b\n",
    "end\n",
    "\n",
    "# Uncomment to give Julia a headache.\n",
    "# function addVectors(\n",
    "#   a::Vector{T},\n",
    "#   b::AbstractVector{T}\n",
    "# )::Vector{T} where T<:Number\n",
    "#   addVectors(b, a)\n",
    "# end\n",
    "\n",
    "addVectors([1, 2, 3], [4, 5, 6])"
   ]
  },
  {
   "cell_type": "code",
   "execution_count": null,
   "metadata": {},
   "outputs": [],
   "source": [
    "methods(addVectors)"
   ]
  },
  {
   "cell_type": "markdown",
   "metadata": {},
   "source": [
    "We can use multiple dispatch to return values of different types, dependent\n",
    "upon the types of the arguments."
   ]
  },
  {
   "cell_type": "code",
   "execution_count": null,
   "metadata": {},
   "outputs": [],
   "source": [
    "function return_input(x::String)::String\n",
    "  x\n",
    "end\n",
    "\n",
    "function return_input(x::Int)::Int\n",
    "  x\n",
    "end\n",
    "\n",
    "string_return = return_input(\"foo\")\n",
    "println(\"$string_return, $(typeof(string_return))\")\n",
    "int_return = return_input(0)\n",
    "println(\"$int_return, $(typeof(int_return))\")\n",
    "\n",
    "methods(return_input)"
   ]
  },
  {
   "cell_type": "markdown",
   "metadata": {},
   "source": [
    "However, it is not possible to use multiple dispatch *only* on the return type\n",
    "of a function."
   ]
  },
  {
   "cell_type": "code",
   "execution_count": null,
   "metadata": {},
   "outputs": [],
   "source": [
    "function return_something()::String\n",
    "  \"foo\"\n",
    "end\n",
    "\n",
    "function return_something()::Int\n",
    "  0\n",
    "end\n",
    "\n",
    "# Uncomment. The type assertion will produce a TypeError.\n",
    "# string_return = return_something()::String\n",
    "# println(\"$string_return, $(typeof(string_return))\")\n",
    "int_return = return_something()::Int\n",
    "println(\"$int_return, $(typeof(int_return))\")\n",
    "\n",
    "methods(return_something)"
   ]
  },
  {
   "cell_type": "markdown",
   "metadata": {},
   "source": [
    "## Type stability"
   ]
  },
  {
   "cell_type": "markdown",
   "metadata": {},
   "source": [
    "Because Julia is JIT-compiled, we can get a huge performance boost over\n",
    "interpreted languages by giving the compiler enough constraints to generate\n",
    "optimized machine code.\n",
    "\n",
    "https://docs.julialang.org/en/v1/manual/performance-tips/\n",
    "\n",
    "There are many profiling packages for Julia:\n",
    "- [AllocCheck.jl](https://github.com/JuliaLang/AllocCheck.jl)\n",
    "- [BenchmarkTools.jl](https://github.com/JuliaCI/BenchmarkTools.jl)\n",
    "- [Cthulhu.jl](https://github.com/JuliaDebug/Cthulhu.jl)\n",
    "- [DispatchDoctor.jl](https://github.com/MilesCranmer/DispatchDoctor.jl)\n",
    "- [JET.jl](https://github.com/aviatesk/JET.jl)\n",
    "- [The *Profile* module](https://docs.julialang.org/en/v1/manual/profile/)\n",
    "\n",
    "https://stackoverflow.com/questions/43453944/what-is-the-difference-between-code-native-code-typed-and-code-llvm-in-julia\n",
    "\n",
    "There are two main ways to ensure type stability:\n",
    "1. Use `@code_warntype` to check for type instability\n",
    "2. Use `@inferred` to check for type stability"
   ]
  },
  {
   "cell_type": "code",
   "execution_count": null,
   "metadata": {},
   "outputs": [],
   "source": [
    "# Type unstable version.\n",
    "function unstable_sum(n)\n",
    "  s = 0 # s is inferred as Int.\n",
    "  for i in 1:n\n",
    "    if iseven(i)\n",
    "      s += i       # Add an Int.\n",
    "    else\n",
    "      s += i * 1.0 # Adding a Float64 makes s become Union{Int, Float64}.\n",
    "    end\n",
    "  end\n",
    "  return s\n",
    "end\n",
    "\n",
    "# Type stable version.\n",
    "function stable_sum(n)\n",
    "  s = 0.0 # s is now a Float64 from the start.\n",
    "  for i in 1:n\n",
    "    if iseven(i)\n",
    "      s += i # i is automatically converted to Float64.\n",
    "    else\n",
    "      s += i * 1.0\n",
    "    end\n",
    "  end\n",
    "  return s\n",
    "end"
   ]
  },
  {
   "cell_type": "code",
   "execution_count": null,
   "metadata": {},
   "outputs": [],
   "source": [
    "# Check type stability.\n",
    "@code_warntype unstable_sum(10)"
   ]
  },
  {
   "cell_type": "code",
   "execution_count": null,
   "metadata": {},
   "outputs": [],
   "source": [
    "# Check type stability.\n",
    "@code_warntype stable_sum(10)"
   ]
  },
  {
   "cell_type": "code",
   "execution_count": null,
   "metadata": {},
   "outputs": [],
   "source": [
    "using Test"
   ]
  },
  {
   "cell_type": "code",
   "execution_count": null,
   "metadata": {},
   "outputs": [],
   "source": [
    "@inferred unstable_sum(10)"
   ]
  },
  {
   "cell_type": "code",
   "execution_count": null,
   "metadata": {},
   "outputs": [],
   "source": [
    "@inferred stable_sum(10)"
   ]
  },
  {
   "cell_type": "markdown",
   "metadata": {},
   "source": [
    "In `stable_sum`, all of our variables have a concrete inferred type and the\n",
    "concrete return type is correctly inferred, so we have achieved type stability\n",
    "and can expect efficient performance.\n",
    "\n",
    "Let's benchmark and compare performance."
   ]
  },
  {
   "cell_type": "code",
   "execution_count": null,
   "metadata": {},
   "outputs": [],
   "source": [
    "# Benchmark.\n",
    "ns = 1:1e3\n",
    "@time unstable_result = [unstable_sum(n) for n in ns]\n",
    "println(\"$(length(unstable_result)) many unstable sums computed.\")\n",
    "@time stable_result = [stable_sum(n) for n in ns]\n",
    "println(\"$(length(stable_result)) many stable sums computed.\")"
   ]
  },
  {
   "cell_type": "markdown",
   "metadata": {},
   "source": [
    "In this simple case, we tend to get a ~3x speedup from ensuring type stability."
   ]
  }
 ],
 "metadata": {
  "kernelspec": {
   "display_name": "Julia 1.11.2",
   "language": "julia",
   "name": "julia-1.11"
  },
  "language_info": {
   "file_extension": ".jl",
   "mimetype": "application/julia",
   "name": "julia",
   "version": "1.11.2"
  }
 },
 "nbformat": 4,
 "nbformat_minor": 2
}

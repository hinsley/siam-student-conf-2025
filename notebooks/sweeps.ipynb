{
 "cells": [
  {
   "cell_type": "markdown",
   "metadata": {},
   "source": [
    "# Parameter sweeps"
   ]
  },
  {
   "cell_type": "markdown",
   "metadata": {},
   "source": [
    "The `DifferentialEquations.jl` and `JuliaDynamics` ecosystems are useful\n",
    "for making highly optimized parameter sweeps of dynamical systems.\n",
    "\n",
    "In particular, we'll look at:\n",
    "- `OrdinaryDiffEq` (DifferentialEquations)\n",
    "- `ChaosTools` (JuliaDynamics)\n",
    "\n",
    "The tools from JuliaDynamics' `DynamicalSystems.jl` (of which `ChaosTools.jl` is\n",
    "a part) are documented in tutorial format very well in the book by Datseris &\n",
    "Parlitz."
   ]
  },
  {
   "cell_type": "code",
   "execution_count": 1,
   "metadata": {},
   "outputs": [
    {
     "name": "stderr",
     "output_type": "stream",
     "text": [
      "\u001b[32m\u001b[1m  Activating\u001b[22m\u001b[39m project at `~/Dev/siam-student-conf-2025/notebooks`\n"
     ]
    }
   ],
   "source": [
    "using Pkg\n",
    "Pkg.activate(\".\")\n",
    "Pkg.instantiate()"
   ]
  },
  {
   "cell_type": "markdown",
   "metadata": {},
   "source": [
    "# Lyapunov spectrum analysis\n",
    "\n",
    "We'll compute two sweeps:\n",
    "- *Leading Lyapunov exponent*, which shows parameter regions corresponding to\n",
    "  chaotic dynamics.\n",
    "- *Lyapunov dimension*, which shows the fractal dimension of the attractor in the\n",
    "  state space.\n",
    "\n",
    "Let's compute these for a single point in parameter space to see how they work."
   ]
  },
  {
   "cell_type": "code",
   "execution_count": 2,
   "metadata": {},
   "outputs": [],
   "source": [
    "using OrdinaryDiffEq"
   ]
  },
  {
   "cell_type": "code",
   "execution_count": 3,
   "metadata": {},
   "outputs": [
    {
     "data": {
      "text/plain": [
       "lorenz! (generic function with 1 method)"
      ]
     },
     "metadata": {},
     "output_type": "display_data"
    }
   ],
   "source": [
    "function lorenz!(du, u, p, t)\n",
    "  # Extract parameters.\n",
    "  ρ, σ, β = p\n",
    "\n",
    "  # Extract state variables.\n",
    "  x, y, z = u\n",
    "  \n",
    "  # Define the Lorenz system equations.\n",
    "  du[1] = σ * (y - x)\n",
    "  du[2] = x * (ρ - z) - y\n",
    "  du[3] = x * y - β * z\n",
    "\n",
    "  # Return the derivatives; we will need this for BifurcationKit.jl.\n",
    "  du\n",
    "end"
   ]
  },
  {
   "cell_type": "code",
   "execution_count": 4,
   "metadata": {},
   "outputs": [
    {
     "data": {
      "text/plain": [
       "(0.0, 100000.0)"
      ]
     },
     "metadata": {},
     "output_type": "display_data"
    }
   ],
   "source": [
    "p = [\n",
    "  28.0,   # ρ\n",
    "  10.0,   # σ\n",
    "  8.0/3.0 # β\n",
    "]\n",
    "\n",
    "u0 = [\n",
    "  10.0, # x\n",
    "  10.0, # y\n",
    "  10.0  # z\n",
    "]\n",
    "\n",
    "tspan = (0.0, 1e5)"
   ]
  },
  {
   "cell_type": "code",
   "execution_count": 5,
   "metadata": {},
   "outputs": [
    {
     "data": {
      "text/plain": [
       "retcode: Success\n",
       "Interpolation: specialized 4th order \"free\" interpolation\n",
       "t: 4873280-element Vector{Float64}:\n",
       "      0.0\n",
       "      0.009514760366390658\n",
       "      0.016430864584616352\n",
       "      0.02650558552705793\n",
       "      0.036483269891708386\n",
       "      0.048304910472091636\n",
       "      0.06091963672639215\n",
       "      0.07500378592597223\n",
       "      0.0897335013317697\n",
       "      0.10429140733157334\n",
       "      ⋮\n",
       "  99999.83155722987\n",
       "  99999.85154178432\n",
       "  99999.87194480235\n",
       "  99999.8929670181\n",
       "  99999.9148431344\n",
       "  99999.93788476517\n",
       "  99999.96254809712\n",
       "  99999.98948254695\n",
       " 100000.0\n",
       "u: 4873280-element Vector{Vector{Float64}}:\n",
       " [10.0, 10.0, 10.0]\n",
       " [10.073350228413272, 11.57867143976095, 10.766654654858943]\n",
       " [10.211390698013433, 12.680686851172009, 11.41292581784568]\n",
       " [10.523697450488259, 14.220591934758016, 12.496745092939497]\n",
       " [10.945147506897248, 15.664808984114842, 13.748435183262233]\n",
       " [11.562974012007302, 17.25153870135197, 15.478876348655254]\n",
       " [12.330104644216737, 18.749756750581213, 17.63791198675786]\n",
       " [13.268273684112305, 20.094114147974253, 20.431593027021787]\n",
       " [14.272985175279002, 20.99209632823744, 23.74369495837335]\n",
       " [15.207075910080249, 21.215767993107097, 27.298171807891787]\n",
       " ⋮\n",
       " [-1.7889601757525737, -1.4343880813361158, 19.929216001359972]\n",
       " [-1.7497176994971004, -1.7049997458238733, 18.948796703817596]\n",
       " [-1.7699212075426687, -2.008299359876627, 18.01005044126631]\n",
       " [-1.8488177179081664, -2.358895414912126, 17.108746893605502]\n",
       " [-1.9906571128331205, -2.7776216006643017, 16.243750640988576]\n",
       " [-2.2064110487805935, -3.295335364970059, 15.417782947513484]\n",
       " [-2.517760799668519, -3.9605071137371293, 14.640483430931788]\n",
       " [-2.964670061694622, -4.852575431619123, 13.93900770225061]\n",
       " [-3.1733919186815953, -5.256802584161706, 13.71433686574118]"
      ]
     },
     "metadata": {},
     "output_type": "display_data"
    }
   ],
   "source": [
    "# Integrate.\n",
    "prob = ODEProblem(lorenz!, u0, tspan, p)\n",
    "solution = solve(prob, Tsit5(), abstol=1e-6, reltol=1e-6, maxiters=1e8)"
   ]
  },
  {
   "cell_type": "code",
   "execution_count": 6,
   "metadata": {},
   "outputs": [],
   "source": [
    "# Plot solution.\n",
    "\n",
    "using GLMakie\n",
    "\n",
    "# Extract the solution components.\n",
    "xs = [u[1] for u in solution.u]\n",
    "ys = [u[2] for u in solution.u]\n",
    "zs = [u[3] for u in solution.u]\n",
    "\n",
    "# Create the 3D plot.\n",
    "fig = Figure()\n",
    "ax = Axis3(\n",
    "  fig[1, 1], \n",
    "  xlabel = \"x\", \n",
    "  ylabel = \"y\", \n",
    "  zlabel = \"z\",\n",
    "  title = \"Lorenz system trajectory\"\n",
    ")\n",
    "\n",
    "# Plot the solution.\n",
    "lines!(ax, xs, ys, zs, linewidth = 1)\n",
    "\n",
    "# Display the figure.\n",
    "fig"
   ]
  },
  {
   "cell_type": "markdown",
   "metadata": {},
   "source": [
    "ChaosTools.jl wants the system specified not as an `ODEProblem`, but instead as\n",
    "a `DynamicalSystem`, which is a type defined by ChaosTools.jl.\n",
    "The appropriate subtype of `DynamicalSystem` for the Lorenz system is\n",
    "`CoupledODEs`."
   ]
  },
  {
   "cell_type": "code",
   "execution_count": 7,
   "metadata": {},
   "outputs": [
    {
     "data": {
      "text/plain": [
       "3-dimensional CoupledODEs\n",
       " deterministic: true\n",
       " discrete time: false\n",
       " in-place:      true\n",
       " dynamic rule:  lorenz!\n",
       " ODE solver:    Tsit5\n",
       " ODE kwargs:    (abstol = 1.0e-6, reltol = 1.0e-6)\n",
       " parameters:    [28.0, 10.0, 2.6666666666666665]\n",
       " time:          0.0\n",
       " state:         [10.0, 10.0, 10.0]\n"
      ]
     },
     "metadata": {},
     "output_type": "display_data"
    }
   ],
   "source": [
    "using ChaosTools\n",
    "\n",
    "# Set up the system.\n",
    "lorenz_system = CoupledODEs(\n",
    "  lorenz!,\n",
    "  u0,\n",
    "  p\n",
    ")"
   ]
  },
  {
   "cell_type": "code",
   "execution_count": 8,
   "metadata": {},
   "outputs": [
    {
     "data": {
      "text/plain": [
       "3-element Vector{Float64}:\n",
       "   0.8976573932058167\n",
       "   0.006348284187339487\n",
       " -14.570599449397237"
      ]
     },
     "metadata": {},
     "output_type": "display_data"
    }
   ],
   "source": [
    "# Compute the Lyapunov spectrum.\n",
    "λ = lyapunovspectrum(\n",
    "  lorenz_system, # The DynamicalSystem.\n",
    "  Int(3e2);      # Integration steps.\n",
    "  Ttr = 1e2,     # Transient time.\n",
    "  Δt = 1e-1      # Time between orthonormalization steps.\n",
    ")"
   ]
  },
  {
   "cell_type": "code",
   "execution_count": 11,
   "metadata": {},
   "outputs": [
    {
     "data": {
      "text/plain": [
       "lyapunov_dimension (generic function with 1 method)"
      ]
     },
     "metadata": {},
     "output_type": "display_data"
    }
   ],
   "source": [
    "# Calculate the Lyapunov dimension (Kaplan-Yorke dimension).\n",
    "# This is defined as k + sum(λs[1:k])/|λs[k+1]|, where k is the largest\n",
    "# integer such that the sum of the first k Lyapunov exponents is non-negative.\n",
    "function lyapunov_dimension(λ)\n",
    "    k = 0\n",
    "    sum_λ = 0.0\n",
    "    \n",
    "    # Find the largest k where the sum is still non-negative.\n",
    "    for (i, λ) in enumerate(λ)\n",
    "        sum_λ += λ\n",
    "        if sum_λ < 0\n",
    "            break\n",
    "        end\n",
    "        k = i\n",
    "    end\n",
    "    \n",
    "    # If all exponents are positive or k is the last index, return k.\n",
    "    if k == length(λ) || k == 0\n",
    "        return k\n",
    "    end\n",
    "    \n",
    "    # Calculate the Kaplan-Yorke dimension.\n",
    "    return k + sum(λ[1:k])/abs(λ[k+1])\n",
    "end"
   ]
  },
  {
   "cell_type": "code",
   "execution_count": 12,
   "metadata": {},
   "outputs": [
    {
     "name": "stdout",
     "output_type": "stream",
     "text": [
      "Estimated Lyapunov dimension: 2.0620431355986906\n"
     ]
    }
   ],
   "source": [
    "lyap_dim = lyapunov_dimension(λ)\n",
    "println(\"Estimated Lyapunov dimension: $lyap_dim\")"
   ]
  },
  {
   "cell_type": "markdown",
   "metadata": {},
   "source": [
    "We should expect a Lyapunov dimension of $2.06 \\pm 0.01$."
   ]
  },
  {
   "cell_type": "markdown",
   "metadata": {},
   "source": [
    "# Sweeps over $\\rho, \\sigma$"
   ]
  },
  {
   "cell_type": "code",
   "execution_count": 13,
   "metadata": {},
   "outputs": [],
   "source": [
    "using StaticArrays"
   ]
  },
  {
   "cell_type": "code",
   "execution_count": 135,
   "metadata": {},
   "outputs": [],
   "source": [
    "# Define parameter range.\n",
    "# ρs = range(10.0, 150.0, length=30);\n",
    "ρs = range(0.0, 110.0, length=64);\n",
    "# σs = range(0.0, 80.0, length=30);\n",
    "σs = range(20.0, 55.0, length=64);"
   ]
  },
  {
   "cell_type": "code",
   "execution_count": 136,
   "metadata": {},
   "outputs": [
    {
     "data": {
      "text/plain": [
       "4096-element Vector{Vector{Float64}}:\n",
       " [0.0, 20.0, 2.6666666666666665]\n",
       " [0.0, 20.555555555555557, 2.6666666666666665]\n",
       " [0.0, 21.11111111111111, 2.6666666666666665]\n",
       " [0.0, 21.666666666666668, 2.6666666666666665]\n",
       " [0.0, 22.22222222222222, 2.6666666666666665]\n",
       " [0.0, 22.77777777777778, 2.6666666666666665]\n",
       " [0.0, 23.333333333333332, 2.6666666666666665]\n",
       " [0.0, 23.88888888888889, 2.6666666666666665]\n",
       " [0.0, 24.444444444444443, 2.6666666666666665]\n",
       " [0.0, 25.0, 2.6666666666666665]\n",
       " ⋮\n",
       " [110.0, 50.55555555555556, 2.6666666666666665]\n",
       " [110.0, 51.111111111111114, 2.6666666666666665]\n",
       " [110.0, 51.666666666666664, 2.6666666666666665]\n",
       " [110.0, 52.22222222222222, 2.6666666666666665]\n",
       " [110.0, 52.77777777777778, 2.6666666666666665]\n",
       " [110.0, 53.333333333333336, 2.6666666666666665]\n",
       " [110.0, 53.888888888888886, 2.6666666666666665]\n",
       " [110.0, 54.44444444444444, 2.6666666666666665]\n",
       " [110.0, 55.0, 2.6666666666666665]"
      ]
     },
     "metadata": {},
     "output_type": "display_data"
    }
   ],
   "source": [
    "# Parameter values from the Cartesian product ρs × σs × {β}.\n",
    "params = [[ρ, σ, p[3]] for ρ in ρs for σ in σs]"
   ]
  },
  {
   "cell_type": "code",
   "execution_count": 137,
   "metadata": {},
   "outputs": [
    {
     "data": {
      "text/plain": [
       "lorenz_static (generic function with 1 method)"
      ]
     },
     "metadata": {},
     "output_type": "display_data"
    }
   ],
   "source": [
    "function lorenz_static(u, p, _)\n",
    "  # Extract parameters.\n",
    "  ρ, σ, β = p\n",
    "\n",
    "  # Extract state variables.\n",
    "  x, y, z = u\n",
    "  \n",
    "  # Define the Lorenz system equations.\n",
    "  du = SVector{3}(\n",
    "    σ * (y - x),\n",
    "    x * (ρ - z) - y,\n",
    "    x * y - β * z\n",
    "  )\n",
    "\n",
    "  # Return the derivatives.\n",
    "  du\n",
    "end"
   ]
  },
  {
   "cell_type": "code",
   "execution_count": 138,
   "metadata": {},
   "outputs": [
    {
     "data": {
      "text/plain": [
       "lorenz_static_jac (generic function with 1 method)"
      ]
     },
     "metadata": {},
     "output_type": "display_data"
    }
   ],
   "source": [
    "function lorenz_static_jac(u, p, _)\n",
    "  # Extract parameters.\n",
    "  ρ, σ, β = p\n",
    "\n",
    "  # Extract state variables.\n",
    "  x, y, z = u\n",
    "\n",
    "  # Define the Lorenz system Jacobian.\n",
    "  jac = SMatrix{3, 3}(\n",
    "     -σ,  σ,  0,\n",
    "    ρ-z, -1, -x,\n",
    "      y,  x, -β\n",
    "  )\n",
    "\n",
    "  # Return the Jacobian.\n",
    "  jac\n",
    "end"
   ]
  },
  {
   "cell_type": "code",
   "execution_count": 139,
   "metadata": {},
   "outputs": [
    {
     "data": {
      "text/plain": [
       "4096×3 Matrix{Float64}:\n",
       "  1.2701e-9    -1.0       -2.66665\n",
       "  3.8232e-10   -1.0       -2.66666\n",
       "  6.00584e-11  -1.0       -2.66666\n",
       " -1.04356e-9   -1.0       -2.66666\n",
       "  5.03125e-10  -1.0       -2.66666\n",
       "  7.63052e-10  -1.0       -2.66666\n",
       " -5.00384e-10  -1.0       -2.66666\n",
       " -1.42866e-9   -1.0       -2.66666\n",
       "  1.1759e-9    -1.0       -2.66666\n",
       "  2.75876e-10  -1.0       -2.66666\n",
       "  ⋮                      \n",
       "  1.13217      -1.2813   -Inf\n",
       "  1.19899      -1.5526   -Inf\n",
       "  1.25837      -1.84196  -Inf\n",
       "  1.31334      -2.15578  -Inf\n",
       "  1.36505      -2.50327  -Inf\n",
       "  1.41004      -2.90697  -Inf\n",
       "  1.45293      -3.39728  -34.7822\n",
       "  1.49037      -4.06062  -34.6433\n",
       "  1.52255      -5.16614  -34.4582"
      ]
     },
     "metadata": {},
     "output_type": "display_data"
    }
   ],
   "source": [
    "# Calculate Lyapunov spectra in parallel threads.\n",
    "\n",
    "ds = CoupledODEs(lorenz_static, u0, p)\n",
    "tands = TangentDynamicalSystem(ds; J = lorenz_static_jac)\n",
    "\n",
    "# Preallocate the array for storing the Lyapunov spectra.\n",
    "λs = zeros(length(params), 3)\n",
    "\n",
    "# Since `DynamicalSystem`s are mutable, we need to copy to parallelize.\n",
    "systems = [deepcopy(tands) for _ in 1:Threads.nthreads()-1]\n",
    "pushfirst!(systems, tands)\n",
    "\n",
    "Threads.@threads for i in eachindex(params)\n",
    "    system = systems[Threads.threadid()]\n",
    "    set_parameters!(system, params[i])\n",
    "    λs[i, :] .= lyapunovspectrum(system, Int(1e3); Ttr = 1e2)\n",
    "end\n",
    "\n",
    "# Display the calculated Lyapunov spectra.\n",
    "λs"
   ]
  },
  {
   "cell_type": "code",
   "execution_count": 140,
   "metadata": {},
   "outputs": [],
   "source": [
    "# Store Leading Lyapunov exponents.\n",
    "LLEs = [λs[i,1] for i in 1:size(λs)[1]]\n",
    "\n",
    "# Store Lyapunov dimensions.\n",
    "LDs = Float64[]\n",
    "for i in 1:size(λs)[1]\n",
    "  try\n",
    "    push!(LDs, lyapunov_dimension(λs[i,:]))\n",
    "  catch\n",
    "    push!(LDs, NaN)\n",
    "  end\n",
    "end"
   ]
  },
  {
   "cell_type": "code",
   "execution_count": 141,
   "metadata": {},
   "outputs": [],
   "source": [
    "# Plot both LLEs and LDs side by side in one figure.\n",
    "fig = Figure(size = (900, 400))\n",
    "\n",
    "# LLEs plot.\n",
    "ax1 = Axis(\n",
    "  fig[1, 1];\n",
    "  xlabel = L\"\\rho\",\n",
    "  ylabel = L\"\\sigma\",\n",
    "  title = \"Leading Lyapunov Exponent\"\n",
    ")\n",
    "hm1 = heatmap!(\n",
    "    ax1,\n",
    "    ρs,\n",
    "    σs,\n",
    "    reshape(LLEs, (length(ρs), length(σs))),\n",
    "    colormap = :thermal\n",
    ")\n",
    "Colorbar(fig[1, 2], hm1, label = L\"\\lambda_1\")\n",
    "\n",
    "# LDs plot.\n",
    "ax2 = Axis(\n",
    "  fig[1, 3];\n",
    "  xlabel = L\"\\rho\",\n",
    "  ylabel = L\"\\sigma\",\n",
    "  title = \"Lyapunov Dimension\"\n",
    ")\n",
    "hm2 = heatmap!(\n",
    "    ax2,\n",
    "    ρs,\n",
    "    σs,\n",
    "    reshape(LDs, (length(ρs), length(σs))),\n",
    "    colormap = :thermal,\n",
    "    # Clip LDs below 2.\n",
    "    colorrange = (max(\n",
    "      1.95,\n",
    "      minimum(filter(!isnan, LDs))),\n",
    "      maximum(filter(!isnan, LDs))\n",
    "    )\n",
    ")\n",
    "Colorbar(fig[1, 4], hm2, label = L\"D_L\")\n",
    "\n",
    "fig"
   ]
  }
 ],
 "metadata": {
  "kernelspec": {
   "display_name": "Julia 1.11.2",
   "language": "julia",
   "name": "julia-1.11"
  },
  "language_info": {
   "file_extension": ".jl",
   "mimetype": "application/julia",
   "name": "julia",
   "version": "1.11.2"
  }
 },
 "nbformat": 4,
 "nbformat_minor": 2
}

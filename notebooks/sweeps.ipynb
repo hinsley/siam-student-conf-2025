{
 "cells": [
  {
   "cell_type": "markdown",
   "metadata": {},
   "source": [
    "# Parameter sweeps"
   ]
  },
  {
   "cell_type": "markdown",
   "metadata": {},
   "source": [
    "The `DifferentialEquations.jl` and `JuliaDynamics` ecosystems are useful\n",
    "for making highly optimized parameter sweeps of dynamical systems.\n",
    "\n",
    "In particular, we'll look at:\n",
    "- `OrdinaryDiffEq` (DifferentialEquations)\n",
    "- `ChaosTools` (JuliaDynamics)\n",
    "\n",
    "The tools from JuliaDynamics' `DynamicalSystems.jl` (of which `ChaosTools.jl` is\n",
    "a part) are documented in tutorial format very well in the book by Datseris &\n",
    "Parlitz."
   ]
  },
  {
   "cell_type": "code",
   "execution_count": null,
   "metadata": {},
   "outputs": [],
   "source": [
    "using Pkg\n",
    "Pkg.activate(\".\")\n",
    "Pkg.instantiate()"
   ]
  },
  {
   "cell_type": "markdown",
   "metadata": {},
   "source": [
    "# Lyapunov spectrum analysis\n",
    "\n",
    "We'll compute two sweeps:\n",
    "- *Leading Lyapunov exponent*, which shows parameter regions corresponding to\n",
    "  chaotic dynamics.\n",
    "- *Lyapunov dimension*, which shows the fractal dimension of the attractor in the\n",
    "  state space.\n",
    "\n",
    "Let's compute these for a single point in parameter space to see how they work."
   ]
  },
  {
   "cell_type": "code",
   "execution_count": null,
   "metadata": {},
   "outputs": [],
   "source": [
    "using OrdinaryDiffEq"
   ]
  },
  {
   "cell_type": "code",
   "execution_count": null,
   "metadata": {},
   "outputs": [],
   "source": [
    "function lorenz!(du, u, p, t)\n",
    "  # Extract parameters.\n",
    "  ρ, σ, β = p\n",
    "\n",
    "  # Extract state variables.\n",
    "  x, y, z = u\n",
    "  \n",
    "  # Define the Lorenz system equations.\n",
    "  du[1] = σ * (y - x)\n",
    "  du[2] = x * (ρ - z) - y\n",
    "  du[3] = x * y - β * z\n",
    "\n",
    "  # Return the derivatives; we will need this for BifurcationKit.jl.\n",
    "  du\n",
    "end"
   ]
  },
  {
   "cell_type": "code",
   "execution_count": null,
   "metadata": {},
   "outputs": [],
   "source": [
    "p = [\n",
    "  28.0,   # ρ\n",
    "  10.0,   # σ\n",
    "  8.0/3.0 # β\n",
    "]\n",
    "\n",
    "u0 = [\n",
    "  10.0, # x\n",
    "  10.0, # y\n",
    "  10.0  # z\n",
    "]\n",
    "\n",
    "tspan = (0.0, 1e5)"
   ]
  },
  {
   "cell_type": "code",
   "execution_count": null,
   "metadata": {},
   "outputs": [],
   "source": [
    "# Integrate.\n",
    "prob = ODEProblem(lorenz!, u0, tspan, p)\n",
    "solution = solve(prob, Tsit5(), abstol=1e-6, reltol=1e-6, maxiters=1e8)"
   ]
  },
  {
   "cell_type": "code",
   "execution_count": null,
   "metadata": {},
   "outputs": [],
   "source": [
    "# Plot solution.\n",
    "\n",
    "using GLMakie\n",
    "\n",
    "# Extract the solution components.\n",
    "xs = [u[1] for u in solution.u]\n",
    "ys = [u[2] for u in solution.u]\n",
    "zs = [u[3] for u in solution.u]\n",
    "\n",
    "# Create the 3D plot.\n",
    "fig = Figure()\n",
    "ax = Axis3(\n",
    "  fig[1, 1], \n",
    "  xlabel = \"x\", \n",
    "  ylabel = \"y\", \n",
    "  zlabel = \"z\",\n",
    "  title = \"Lorenz system trajectory\"\n",
    ")\n",
    "\n",
    "# Plot the solution.\n",
    "lines!(ax, xs, ys, zs, linewidth = 1)\n",
    "\n",
    "# Display the figure.\n",
    "fig"
   ]
  },
  {
   "cell_type": "markdown",
   "metadata": {},
   "source": [
    "ChaosTools.jl wants the system specified not as an `ODEProblem`, but instead as\n",
    "a `DynamicalSystem`, which is a type defined by ChaosTools.jl.\n",
    "The appropriate subtype of `DynamicalSystem` for the Lorenz system is\n",
    "`CoupledODEs`."
   ]
  },
  {
   "cell_type": "code",
   "execution_count": null,
   "metadata": {},
   "outputs": [],
   "source": [
    "using ChaosTools\n",
    "\n",
    "# Set up the system.\n",
    "lorenz_system = CoupledODEs(\n",
    "  lorenz!,\n",
    "  u0,\n",
    "  p\n",
    ")"
   ]
  },
  {
   "cell_type": "code",
   "execution_count": null,
   "metadata": {},
   "outputs": [],
   "source": [
    "# Compute the Lyapunov spectrum.\n",
    "λ = lyapunovspectrum(\n",
    "  lorenz_system, # The DynamicalSystem.\n",
    "  Int(3e2);      # Integration steps.\n",
    "  Ttr = 1e2,     # Transient time.\n",
    "  Δt = 1e-1      # Time between orthonormalization steps.\n",
    ")"
   ]
  },
  {
   "cell_type": "code",
   "execution_count": null,
   "metadata": {},
   "outputs": [],
   "source": [
    "# Calculate the Lyapunov dimension (Kaplan-Yorke dimension).\n",
    "# This is defined as k + sum(λs[1:k])/|λs[k+1]|, where k is the largest\n",
    "# integer such that the sum of the first k Lyapunov exponents is non-negative.\n",
    "function lyapunov_dimension(λ)\n",
    "    k = 0\n",
    "    sum_λ = 0.0\n",
    "    \n",
    "    # Find the largest k where the sum is still non-negative.\n",
    "    for (i, λ) in enumerate(λ)\n",
    "        sum_λ += λ\n",
    "        if sum_λ < 0\n",
    "            break\n",
    "        end\n",
    "        k = i\n",
    "    end\n",
    "    \n",
    "    # If all exponents are positive or k is the last index, return k.\n",
    "    if k == length(λ) || k == 0\n",
    "        return k\n",
    "    end\n",
    "    \n",
    "    # Calculate the Kaplan-Yorke dimension.\n",
    "    return k + sum(λ[1:k])/abs(λ[k+1])\n",
    "end"
   ]
  },
  {
   "cell_type": "code",
   "execution_count": null,
   "metadata": {},
   "outputs": [],
   "source": [
    "lyap_dim = lyapunov_dimension(λ)\n",
    "println(\"Estimated Lyapunov dimension: $lyap_dim\")"
   ]
  },
  {
   "cell_type": "markdown",
   "metadata": {},
   "source": [
    "We should expect a Lyapunov dimension of $2.06 \\pm 0.01$."
   ]
  },
  {
   "cell_type": "markdown",
   "metadata": {},
   "source": [
    "# Sweeps over $\\rho, \\sigma$"
   ]
  },
  {
   "cell_type": "code",
   "execution_count": null,
   "metadata": {},
   "outputs": [],
   "source": [
    "using StaticArrays"
   ]
  },
  {
   "cell_type": "code",
   "execution_count": null,
   "metadata": {},
   "outputs": [],
   "source": [
    "# Define parameter range.\n",
    "# ρs = range(10.0, 150.0, length=30);\n",
    "ρs = range(0.0, 110.0, length=64);\n",
    "# σs = range(0.0, 80.0, length=30);\n",
    "σs = range(20.0, 55.0, length=64);"
   ]
  },
  {
   "cell_type": "code",
   "execution_count": null,
   "metadata": {},
   "outputs": [],
   "source": [
    "# Parameter values from the Cartesian product ρs × σs × {β}.\n",
    "params = [[ρ, σ, p[3]] for ρ in ρs for σ in σs]"
   ]
  },
  {
   "cell_type": "code",
   "execution_count": null,
   "metadata": {},
   "outputs": [],
   "source": [
    "function lorenz_static(u, p, _)\n",
    "  # Extract parameters.\n",
    "  ρ, σ, β = p\n",
    "\n",
    "  # Extract state variables.\n",
    "  x, y, z = u\n",
    "  \n",
    "  # Define the Lorenz system equations.\n",
    "  du = SVector{3}(\n",
    "    σ * (y - x),\n",
    "    x * (ρ - z) - y,\n",
    "    x * y - β * z\n",
    "  )\n",
    "\n",
    "  # Return the derivatives.\n",
    "  du\n",
    "end"
   ]
  },
  {
   "cell_type": "code",
   "execution_count": null,
   "metadata": {},
   "outputs": [],
   "source": [
    "function lorenz_static_jac(u, p, _)\n",
    "  # Extract parameters.\n",
    "  ρ, σ, β = p\n",
    "\n",
    "  # Extract state variables.\n",
    "  x, y, z = u\n",
    "\n",
    "  # Define the Lorenz system Jacobian.\n",
    "  jac = SMatrix{3, 3}(\n",
    "     -σ,  σ,  0,\n",
    "    ρ-z, -1, -x,\n",
    "      y,  x, -β\n",
    "  )\n",
    "\n",
    "  # Return the Jacobian.\n",
    "  jac\n",
    "end"
   ]
  },
  {
   "cell_type": "code",
   "execution_count": null,
   "metadata": {},
   "outputs": [],
   "source": [
    "# Calculate Lyapunov spectra in parallel threads.\n",
    "\n",
    "ds = CoupledODEs(lorenz_static, u0, p)\n",
    "tands = TangentDynamicalSystem(ds; J = lorenz_static_jac)\n",
    "\n",
    "# Preallocate the array for storing the Lyapunov spectra.\n",
    "λs = zeros(length(params), 3)\n",
    "\n",
    "# Since `DynamicalSystem`s are mutable, we need to copy to parallelize.\n",
    "systems = [deepcopy(tands) for _ in 1:Threads.nthreads()-1]\n",
    "pushfirst!(systems, tands)\n",
    "\n",
    "Threads.@threads for i in eachindex(params)\n",
    "    system = systems[Threads.threadid()]\n",
    "    set_parameters!(system, params[i])\n",
    "    λs[i, :] .= lyapunovspectrum(system, Int(1e3); Ttr = 1e2)\n",
    "end\n",
    "\n",
    "# Display the calculated Lyapunov spectra.\n",
    "λs"
   ]
  },
  {
   "cell_type": "code",
   "execution_count": null,
   "metadata": {},
   "outputs": [],
   "source": [
    "# Store Leading Lyapunov exponents.\n",
    "LLEs = [λs[i,1] for i in 1:size(λs)[1]]\n",
    "\n",
    "# Store Lyapunov dimensions.\n",
    "LDs = Float64[]\n",
    "for i in 1:size(λs)[1]\n",
    "  try\n",
    "    push!(LDs, lyapunov_dimension(λs[i,:]))\n",
    "  catch\n",
    "    push!(LDs, NaN)\n",
    "  end\n",
    "end"
   ]
  },
  {
   "cell_type": "code",
   "execution_count": null,
   "metadata": {},
   "outputs": [],
   "source": [
    "# Plot both LLEs and LDs side by side in one figure.\n",
    "fig = Figure(size = (900, 400))\n",
    "\n",
    "# LLEs plot.\n",
    "ax1 = Axis(\n",
    "  fig[1, 1];\n",
    "  xlabel = L\"\\rho\",\n",
    "  ylabel = L\"\\sigma\",\n",
    "  title = \"Leading Lyapunov Exponent\"\n",
    ")\n",
    "hm1 = heatmap!(\n",
    "    ax1,\n",
    "    ρs,\n",
    "    σs,\n",
    "    reshape(LLEs, (length(ρs), length(σs))),\n",
    "    colormap = :thermal\n",
    ")\n",
    "Colorbar(fig[1, 2], hm1, label = L\"\\lambda_1\")\n",
    "\n",
    "# LDs plot.\n",
    "ax2 = Axis(\n",
    "  fig[1, 3];\n",
    "  xlabel = L\"\\rho\",\n",
    "  ylabel = L\"\\sigma\",\n",
    "  title = \"Lyapunov Dimension\"\n",
    ")\n",
    "hm2 = heatmap!(\n",
    "    ax2,\n",
    "    ρs,\n",
    "    σs,\n",
    "    reshape(LDs, (length(ρs), length(σs))),\n",
    "    colormap = :thermal,\n",
    "    # Clip LDs below 2.\n",
    "    colorrange = (max(\n",
    "      1.95,\n",
    "      minimum(filter(!isnan, LDs))),\n",
    "      maximum(filter(!isnan, LDs))\n",
    "    )\n",
    ")\n",
    "Colorbar(fig[1, 4], hm2, label = L\"D_L\")\n",
    "\n",
    "fig"
   ]
  }
 ],
 "metadata": {
  "kernelspec": {
   "display_name": "Julia 1.11.2",
   "language": "julia",
   "name": "julia-1.11"
  },
  "language_info": {
   "file_extension": ".jl",
   "mimetype": "application/julia",
   "name": "julia",
   "version": "1.11.2"
  }
 },
 "nbformat": 4,
 "nbformat_minor": 2
}

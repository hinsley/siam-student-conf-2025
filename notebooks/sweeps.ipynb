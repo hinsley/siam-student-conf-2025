{
 "cells": [
  {
   "cell_type": "markdown",
   "metadata": {},
   "source": [
    "# Parameter sweeps"
   ]
  },
  {
   "cell_type": "markdown",
   "metadata": {},
   "source": [
    "The `DifferentialEquations.jl` and `JuliaDynamics` ecosystems are useful\n",
    "for making highly optimized parameter sweeps of dynamical systems.\n",
    "\n",
    "In particular, we'll look at:\n",
    "- `OrdinaryDiffEq` (DifferentialEquations)\n",
    "- `ChaosTools` (JuliaDynamics)\n",
    "\n",
    "The tools from JuliaDynamics' `DynamicalSystems.jl` (of which `ChaosTools.jl` is\n",
    "a part) are documented in tutorial format very well in the book by Datseris &\n",
    "Parlitz."
   ]
  },
  {
   "cell_type": "code",
   "execution_count": 1,
   "metadata": {},
   "outputs": [
    {
     "name": "stderr",
     "output_type": "stream",
     "text": [
      "\u001b[32m\u001b[1m  Activating\u001b[22m\u001b[39m project at `~/Dev/siam-student-conf-2025/notebooks`\n"
     ]
    }
   ],
   "source": [
    "using Pkg\n",
    "Pkg.activate(\".\")\n",
    "Pkg.instantiate()"
   ]
  },
  {
   "cell_type": "markdown",
   "metadata": {},
   "source": [
    "# Lyapunov spectrum analysis\n",
    "\n",
    "We'll compute two sweeps:\n",
    "- *Leading Lyapunov exponent*, which shows parameter regions corresponding to\n",
    "  chaotic dynamics.\n",
    "- *Lyapunov dimension*, which shows the fractal dimension of the attractor in the\n",
    "  state space.\n",
    "\n",
    "Let's compute these for a single point in parameter space to see how they work."
   ]
  },
  {
   "cell_type": "code",
   "execution_count": 2,
   "metadata": {},
   "outputs": [],
   "source": [
    "using OrdinaryDiffEq"
   ]
  },
  {
   "cell_type": "code",
   "execution_count": 10,
   "metadata": {},
   "outputs": [
    {
     "data": {
      "text/plain": [
       "lorenz! (generic function with 1 method)"
      ]
     },
     "metadata": {},
     "output_type": "display_data"
    }
   ],
   "source": [
    "function lorenz!(du, u, p, t)\n",
    "  # Extract parameters.\n",
    "  ρ, σ, β = p\n",
    "\n",
    "  # Extract state variables.\n",
    "  x, y, z = u\n",
    "  \n",
    "  # Define the Lorenz system equations.\n",
    "  du[1] = σ * (y - x)\n",
    "  du[2] = x * (ρ - z) - y\n",
    "  du[3] = x * y - β * z\n",
    "\n",
    "  # Return the derivatives; we will need this for BifurcationKit.jl.\n",
    "  du\n",
    "end"
   ]
  },
  {
   "cell_type": "code",
   "execution_count": 9,
   "metadata": {},
   "outputs": [
    {
     "data": {
      "text/plain": [
       "(0.0, 1.0e6)"
      ]
     },
     "metadata": {},
     "output_type": "display_data"
    }
   ],
   "source": [
    "p = [\n",
    "  28.0,   # ρ\n",
    "  10.0,   # σ\n",
    "  8.0/3.0 # β\n",
    "]\n",
    "\n",
    "u0 = [\n",
    "  10.0, # x\n",
    "  10.0, # y\n",
    "  10.0  # z\n",
    "]\n",
    "\n",
    "tspan = (0.0, 1e6)"
   ]
  },
  {
   "cell_type": "code",
   "execution_count": 10,
   "metadata": {},
   "outputs": [
    {
     "data": {
      "text/plain": [
       "retcode: Success\n",
       "Interpolation: specialized 4th order \"free\" interpolation\n",
       "t: 772384-element Vector{Float64}:\n",
       "     0.0\n",
       "     0.006003407934143237\n",
       "     0.010368505831335927\n",
       "     0.016647770622131776\n",
       "     0.022830356980822322\n",
       "     0.03004223932603737\n",
       "     0.03761790564643813\n",
       "     0.04590463197518049\n",
       "     0.05470294590706537\n",
       "     0.06411465928010099\n",
       "     ⋮\n",
       "  9999.941239456757\n",
       "  9999.948043621418\n",
       "  9999.954528636945\n",
       "  9999.961649038387\n",
       "  9999.96898606132\n",
       "  9999.976895750453\n",
       "  9999.985330285655\n",
       "  9999.994460225584\n",
       " 10000.0\n",
       "u: 772384-element Vector{Vector{Float64}}:\n",
       " [10.0, 10.0, 10.0]\n",
       " [10.029718115640433, 11.004845343821025, 10.467542332641681]\n",
       " [10.086735098810065, 11.716707788706875, 10.84229404742576]\n",
       " [10.216777759684287, 12.714657411752464, 11.434449812177528]\n",
       " [10.395549285802868, 13.667902087852132, 12.081137919893681]\n",
       " [10.661304929207754, 14.742231541286515, 12.919409913624254]\n",
       " [10.999293332286388, 15.823410028275172, 13.90261017699149]\n",
       " [11.428512422238061, 16.941917441413686, 15.104990145646253]\n",
       " [11.940528751181901, 18.040567800587475, 16.532943293492266]\n",
       " [12.537383072726437, 19.089079282589193, 18.2367520046829]\n",
       " ⋮\n",
       " [11.729957080650362, 0.46693593689562995, 40.56672846534207]\n",
       " [10.957049568616537, -0.47550190864406594, 39.836468682147824]\n",
       " [10.213779227658142, -1.2573994555551544, 39.094124900179054]\n",
       " [9.39914292862364, -1.991329479380177, 38.2460292652819]\n",
       " [8.570081565570682, -2.6207766431954176, 37.35408810302467]\n",
       " [7.697093902822025, -3.1689417298596725, 36.38981729986505]\n",
       " [6.7987376768543, -3.6224106950151156, 35.37493587971707]\n",
       " [5.872543190602332, -3.9835975625897153, 34.30659144049553]\n",
       " [5.336763816874831, -4.147169995669651, 33.678207104730674]"
      ]
     },
     "metadata": {},
     "output_type": "display_data"
    }
   ],
   "source": [
    "# Integrate.\n",
    "prob = ODEProblem(lorenz!, u0, tspan, p)\n",
    "solution = solve(prob, Tsit5(), abstol=1e-7, reltol=1e-7)"
   ]
  },
  {
   "cell_type": "code",
   "execution_count": null,
   "metadata": {},
   "outputs": [],
   "source": [
    "# Plot solution.\n",
    "\n",
    "using GLMakie\n",
    "\n",
    "# Extract the solution components.\n",
    "xs = [u[1] for u in solution.u]\n",
    "ys = [u[2] for u in solution.u]\n",
    "zs = [u[3] for u in solution.u]\n",
    "\n",
    "# Create the 3D plot.\n",
    "fig = Figure()\n",
    "ax = Axis3(\n",
    "  fig[1, 1], \n",
    "  xlabel = \"x\", \n",
    "  ylabel = \"y\", \n",
    "  zlabel = \"z\",\n",
    "  title = \"Lorenz system trajectory\"\n",
    ")\n",
    "\n",
    "# Plot the solution.\n",
    "lines!(ax, xs, ys, zs, linewidth = 1)\n",
    "\n",
    "# Display the figure.\n",
    "fig"
   ]
  },
  {
   "cell_type": "markdown",
   "metadata": {},
   "source": [
    "ChaosTools.jl wants the system specified not as an `ODEProblem`, but instead as\n",
    "a `DynamicalSystem`, which is a type defined by ChaosTools.jl.\n",
    "The appropriate subtype of `DynamicalSystem` for the Lorenz system is\n",
    "`CoupledODEs`."
   ]
  },
  {
   "cell_type": "code",
   "execution_count": null,
   "metadata": {},
   "outputs": [],
   "source": [
    "using ChaosTools\n",
    "\n",
    "# Set up the system.\n",
    "lorenz_system = CoupledODEs(\n",
    "  lorenz!,\n",
    "  u0,\n",
    "  p\n",
    ")"
   ]
  },
  {
   "cell_type": "code",
   "execution_count": 56,
   "metadata": {},
   "outputs": [
    {
     "data": {
      "text/plain": [
       "3-element Vector{Float64}:\n",
       "   0.8976573932058167\n",
       "   0.006348284187339487\n",
       " -14.570599449397237"
      ]
     },
     "metadata": {},
     "output_type": "display_data"
    }
   ],
   "source": [
    "# Compute the Lyapunov spectrum.\n",
    "λ = lyapunovspectrum(\n",
    "  lorenz_system, # The DynamicalSystem.\n",
    "  Int(3e2);      # Integration steps.\n",
    "  Ttr = 1e2,     # Transient time.\n",
    "  Δt = 1e-1      # Time between orthonormalization steps.\n",
    ")"
   ]
  },
  {
   "cell_type": "code",
   "execution_count": 5,
   "metadata": {},
   "outputs": [
    {
     "data": {
      "text/plain": [
       "lyapunov_dimension (generic function with 1 method)"
      ]
     },
     "metadata": {},
     "output_type": "display_data"
    }
   ],
   "source": [
    "# Calculate the Lyapunov dimension (Kaplan-Yorke dimension).\n",
    "# This is defined as k + sum(λs[1:k])/|λs[k+1]|, where k is the largest\n",
    "# integer such that the sum of the first k Lyapunov exponents is non-negative.\n",
    "function lyapunov_dimension(λ)\n",
    "    k = 0\n",
    "    sum_λ = 0.0\n",
    "    \n",
    "    # Find the largest k where the sum is still non-negative.\n",
    "    for (i, λ) in enumerate(λ)\n",
    "        sum_λ += λ\n",
    "        if sum_λ < 0\n",
    "            break\n",
    "        end\n",
    "        k = i\n",
    "    end\n",
    "    \n",
    "    # If all exponents are positive or k is the last index, return k.\n",
    "    if k == length(λs) || k == 0\n",
    "        return k\n",
    "    end\n",
    "    \n",
    "    # Calculate the Kaplan-Yorke dimension.\n",
    "    return k + sum(λ[1:k])/abs(λ[k+1])\n",
    "end"
   ]
  },
  {
   "cell_type": "code",
   "execution_count": 59,
   "metadata": {},
   "outputs": [
    {
     "name": "stdout",
     "output_type": "stream",
     "text": [
      "Estimated Lyapunov dimension: 2.0620431355986906\n"
     ]
    }
   ],
   "source": [
    "lyap_dim = lyapunov_dimension(λ)\n",
    "println(\"Estimated Lyapunov dimension: $lyap_dim\")"
   ]
  },
  {
   "cell_type": "markdown",
   "metadata": {},
   "source": [
    "We should expect a Lyapunov dimension of $2.06 \\pm 0.01$."
   ]
  },
  {
   "cell_type": "markdown",
   "metadata": {},
   "source": [
    "# Sweeps over $\\rho, \\sigma$"
   ]
  },
  {
   "cell_type": "code",
   "execution_count": 6,
   "metadata": {},
   "outputs": [],
   "source": [
    "using StaticArrays"
   ]
  },
  {
   "cell_type": "code",
   "execution_count": 18,
   "metadata": {},
   "outputs": [],
   "source": [
    "# Define parameter range.\n",
    "ρs = range(10.0, 150.0, length=30);\n",
    "σs = range(0.0, 80.0, length=30);"
   ]
  },
  {
   "cell_type": "code",
   "execution_count": 19,
   "metadata": {},
   "outputs": [
    {
     "data": {
      "text/plain": [
       "3600-element Vector{Tuple{Float64, Float64, Float64}}:\n",
       " (10.0, 0.0, 2.6666666666666665)\n",
       " (10.0, 1.3559322033898304, 2.6666666666666665)\n",
       " (10.0, 2.711864406779661, 2.6666666666666665)\n",
       " (10.0, 4.067796610169491, 2.6666666666666665)\n",
       " (10.0, 5.423728813559322, 2.6666666666666665)\n",
       " (10.0, 6.779661016949152, 2.6666666666666665)\n",
       " (10.0, 8.135593220338983, 2.6666666666666665)\n",
       " (10.0, 9.491525423728813, 2.6666666666666665)\n",
       " (10.0, 10.847457627118644, 2.6666666666666665)\n",
       " (10.0, 12.203389830508474, 2.6666666666666665)\n",
       " ⋮\n",
       " (150.0, 69.15254237288136, 2.6666666666666665)\n",
       " (150.0, 70.50847457627118, 2.6666666666666665)\n",
       " (150.0, 71.86440677966101, 2.6666666666666665)\n",
       " (150.0, 73.22033898305085, 2.6666666666666665)\n",
       " (150.0, 74.57627118644068, 2.6666666666666665)\n",
       " (150.0, 75.9322033898305, 2.6666666666666665)\n",
       " (150.0, 77.28813559322033, 2.6666666666666665)\n",
       " (150.0, 78.64406779661017, 2.6666666666666665)\n",
       " (150.0, 80.0, 2.6666666666666665)"
      ]
     },
     "metadata": {},
     "output_type": "display_data"
    }
   ],
   "source": [
    "# Parameter values from the Cartesian product ρs × σs × {β}.\n",
    "params = [(ρ, σ, p[3]) for ρ in ρs for σ in σs]"
   ]
  },
  {
   "cell_type": "code",
   "execution_count": 20,
   "metadata": {},
   "outputs": [
    {
     "data": {
      "text/plain": [
       "lorenz_static (generic function with 1 method)"
      ]
     },
     "metadata": {},
     "output_type": "display_data"
    }
   ],
   "source": [
    "function lorenz_static(u, p, _)\n",
    "  # Extract parameters.\n",
    "  ρ, σ, β = p\n",
    "\n",
    "  # Extract state variables.\n",
    "  x, y, z = u\n",
    "  \n",
    "  # Define the Lorenz system equations.\n",
    "  du = SVector{3}(\n",
    "    σ * (y - x),\n",
    "    x * (ρ - z) - y,\n",
    "    x * y - β * z\n",
    "  )\n",
    "\n",
    "  # Return the derivatives.\n",
    "  du\n",
    "end"
   ]
  },
  {
   "cell_type": "code",
   "execution_count": 21,
   "metadata": {},
   "outputs": [
    {
     "data": {
      "text/plain": [
       "lorenz_static_jac (generic function with 1 method)"
      ]
     },
     "metadata": {},
     "output_type": "display_data"
    }
   ],
   "source": [
    "function lorenz_static_jac(u, p, _)\n",
    "  # Extract parameters.\n",
    "  ρ, σ, β = p\n",
    "\n",
    "  # Extract state variables.\n",
    "  x, y, z = u\n",
    "\n",
    "  # Define the Lorenz system Jacobian.\n",
    "  jac = SMatrix{3, 3}(\n",
    "     -σ,  σ,  0,\n",
    "    ρ-z, -1, -x,\n",
    "      y,  x, -β\n",
    "  )\n",
    "\n",
    "  # Return the Jacobian.\n",
    "  jac\n",
    "end"
   ]
  },
  {
   "cell_type": "code",
   "execution_count": 22,
   "metadata": {},
   "outputs": [],
   "source": [
    "# Calculate Lyapunov spectra in parallel threads.\n",
    "\n",
    "ds = CoupledODEs(lorenz_static, u0, p)\n",
    "tands = TangentDynamicalSystem(ds; J = lorenz_static_jac)\n",
    "\n",
    "# Preallocate the array for storing the Lyapunov spectra.\n",
    "λs = zeros(length(params), 3)\n",
    "\n",
    "# Since `DynamicalSystem`s are mutable, we need to copy to parallelize.\n",
    "systems = [deepcopy(tands) for _ in 1:Threads.nthreads()-1]\n",
    "pushfirst!(systems, tands)\n",
    "\n",
    "Threads.@threads for i in eachindex(params)\n",
    "    system = systems[Threads.threadid()]\n",
    "    for param_idx in 1:3\n",
    "        set_parameter!(system, param_idx, params[i][param_idx])\n",
    "    end\n",
    "    λs[i, :] .= lyapunovspectrum(system, Int(1e3); Ttr = 1e2)\n",
    "end\n",
    "\n",
    "# Display the calculated Lyapunov spectra.\n",
    "λs"
   ]
  },
  {
   "cell_type": "code",
   "execution_count": null,
   "metadata": {},
   "outputs": [],
   "source": [
    "# Store Leading Lyapunov exponents.\n",
    "LLEs = [λs[i,1] for i in 1:size(λs)[1]]\n",
    "\n",
    "# Store Lyapunov dimensions.\n",
    "LDs = Float64[]\n",
    "for i in 1:size(λs)[1]\n",
    "  try\n",
    "    push!(LDs, lyapunov_dimension(λs[i,:]))\n",
    "  catch\n",
    "    push!(LDs, NaN)\n",
    "  end\n",
    "end"
   ]
  },
  {
   "cell_type": "code",
   "execution_count": null,
   "metadata": {},
   "outputs": [],
   "source": [
    "# Plot leading Lyapunov exponents (LLEs) as a heatmap.\n",
    "fig = Figure()\n",
    "ax = Axis(fig[1,1]; xlabel = L\"\\rho\", ylabel = L\"\\sigma\")\n",
    "heatmap!(\n",
    "  ax,\n",
    "  ρs,\n",
    "  σs,\n",
    "  reshape(LLEs, (length(ρs), length(σs))),\n",
    "  colormap = :thermal\n",
    ")\n",
    "Colorbar(fig[1, 2], colormap = :thermal, label = L\"\\lambda\")\n",
    "fig"
   ]
  },
  {
   "cell_type": "code",
   "execution_count": 17,
   "metadata": {},
   "outputs": [],
   "source": [
    "# Plot Lyapunov dimensions (LDs) as a heatmap.\n",
    "fig = Figure()\n",
    "ax = Axis(fig[1,1]; xlabel = L\"\\rho\", ylabel = L\"\\sigma\")\n",
    "heatmap!(\n",
    "  ax,\n",
    "  ρs,\n",
    "  σs,\n",
    "  reshape(LDs, (length(ρs), length(σs))),\n",
    "  colormap = :thermal\n",
    ")\n",
    "Colorbar(fig[1, 2], colormap = :thermal, label = L\"D_L\")\n"
   ]
  },
  {
   "cell_type": "code",
   "execution_count": null,
   "metadata": {},
   "outputs": [],
   "source": []
  }
 ],
 "metadata": {
  "kernelspec": {
   "display_name": "Julia 1.11.2",
   "language": "julia",
   "name": "julia-1.11"
  },
  "language_info": {
   "file_extension": ".jl",
   "mimetype": "application/julia",
   "name": "julia",
   "version": "1.11.2"
  }
 },
 "nbformat": 4,
 "nbformat_minor": 2
}
